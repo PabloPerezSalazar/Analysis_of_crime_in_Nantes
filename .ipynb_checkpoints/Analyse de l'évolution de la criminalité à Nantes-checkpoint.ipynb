{
 "cells": [
  {
   "cell_type": "markdown",
   "id": "575845ff",
   "metadata": {},
   "source": [
    "### Analyse de l'évolution de la criminalité à Nantes"
   ]
  },
  {
   "cell_type": "code",
   "execution_count": 1,
   "id": "aa28b858",
   "metadata": {},
   "outputs": [],
   "source": [
    "import pandas as pd"
   ]
  },
  {
   "cell_type": "code",
   "execution_count": 2,
   "id": "ed9a6ed4",
   "metadata": {},
   "outputs": [
    {
     "name": "stdout",
     "output_type": "stream",
     "text": [
      " Le volume dans le lecteur C s’appelle Windows\n",
      " Le numéro de série du volume est 16F0-8432\n",
      "\n",
      " Répertoire de C:\\Users\\PPEREZEY\\Downloads\\Analyse Criminalite Nantes\\scripts\n",
      "\n",
      "03/12/2021  09:58    <DIR>          .\n",
      "03/12/2021  09:58    <DIR>          ..\n",
      "03/12/2021  09:45    <DIR>          .ipynb_checkpoints\n",
      "03/12/2021  09:58             1 380 Analyse de l'évolution de la criminalité à Nantes.ipynb\n",
      "               1 fichier(s)            1 380 octets\n",
      "               3 Rép(s)  187 979 354 112 octets libres\n"
     ]
    }
   ],
   "source": [
    "ls"
   ]
  },
  {
   "cell_type": "code",
   "execution_count": null,
   "id": "98e5e2c6",
   "metadata": {},
   "outputs": [],
   "source": [
    "#ls\n",
    "police_records = pd.ExcelFile(\"/Users/glosophy/Desktop/hfi/hfi_2016.xlsx\")\n",
    "\n",
    "print(pumpkins.shape)\n",
    "pumpkins.head()"
   ]
  },
  {
   "cell_type": "code",
   "execution_count": null,
   "id": "18347b47",
   "metadata": {},
   "outputs": [],
   "source": []
  },
  {
   "cell_type": "code",
   "execution_count": null,
   "id": "abc00048",
   "metadata": {},
   "outputs": [],
   "source": []
  },
  {
   "cell_type": "code",
   "execution_count": null,
   "id": "fc89efe7",
   "metadata": {},
   "outputs": [],
   "source": []
  }
 ],
 "metadata": {
  "kernelspec": {
   "display_name": "Python 3 (ipykernel)",
   "language": "python",
   "name": "python3"
  },
  "language_info": {
   "codemirror_mode": {
    "name": "ipython",
    "version": 3
   },
   "file_extension": ".py",
   "mimetype": "text/x-python",
   "name": "python",
   "nbconvert_exporter": "python",
   "pygments_lexer": "ipython3",
   "version": "3.8.12"
  }
 },
 "nbformat": 4,
 "nbformat_minor": 5
}
