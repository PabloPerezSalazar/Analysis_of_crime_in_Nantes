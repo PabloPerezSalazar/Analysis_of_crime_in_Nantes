{
 "cells": [
  {
   "cell_type": "markdown",
   "metadata": {},
   "source": [
    "# Evolution du volume des marchés publiés\n",
    "\n",
    "## Prédiction du volume des AO\n",
    "\n",
    "Analyse du secteur des matériels médicaux"
   ]
  },
  {
   "cell_type": "code",
   "execution_count": 106,
   "metadata": {},
   "outputs": [],
   "source": [
    "import sys\n",
    "sys.path.append(\"/app\")\n",
    "import django\n",
    "django.setup()\n",
    "import json"
   ]
  },
  {
   "cell_type": "code",
   "execution_count": 107,
   "metadata": {},
   "outputs": [],
   "source": [
    "import sys\n",
    "sys.path.append(\"/app\")\n",
    "import django\n",
    "django.setup()\n",
    "import json\n",
    "import re\n",
    "\n",
    "from datetime import datetime"
   ]
  },
  {
   "cell_type": "code",
   "execution_count": 108,
   "metadata": {},
   "outputs": [],
   "source": [
    "from elasticsearch_dsl import query as esq, Q, A\n",
    "\n",
    "from annonces.documents import AnnonceDocument\n",
    "\n",
    "import pandas as pd\n",
    "\n",
    "import altair as alt"
   ]
  },
  {
   "cell_type": "markdown",
   "metadata": {},
   "source": [
    "## Analyse graphique des données J360 extraites d'ES\n",
    "\n",
    "### Evolution du volume des marchés publiés"
   ]
  },
  {
   "cell_type": "code",
   "execution_count": 109,
   "metadata": {},
   "outputs": [],
   "source": [
    "# données issus de l'écran de paramètrage\n",
    "\n",
    "trades = [126,125]   # \"Matériels médicaux -- 126\" , \"Médicaments, produits pharmaceutiques -- 125\"\n",
    "countries = ['FR']\n",
    "keywords = [\"medical\"]\n",
    "\n",
    "# dates\n",
    "search = AnnonceDocument.search()\n",
    "search.aggs.metric(\"date_min\", \"min\", field=\"created\")\n",
    "search.aggs.metric(\"date_max\", \"max\", field=\"created\")\n",
    "response = search.execute()\n",
    "\n",
    "value_min = response.aggregations.date_min.value_as_string\n",
    "value_max = response.aggregations.date_max.value_as_string\n",
    "date_min = datetime.fromisoformat(value_min[:-1])\n",
    "date_max = datetime.fromisoformat(value_max[:-1])\n",
    "\n",
    "# defaut date \n",
    "date = { \"gte\": date_min, \n",
    "         \"lte\": date_max , \n",
    "          \"format\": \"strict_date_optional_time\" }"
   ]
  },
  {
   "cell_type": "code",
   "execution_count": 110,
   "metadata": {},
   "outputs": [],
   "source": [
    "\n",
    "def get_tenders_volume(trades, keywords, countries, date):\n",
    "    \"\"\"\n",
    "    Search and aggregation of ads\n",
    "    The parameters of the function are \n",
    "    the data from the settings screen\n",
    "    \"\"\"\n",
    "    s = AnnonceDocument().search().filter('term', type = \"AO\")\\\n",
    "        .filter('terms', pays = countries) \\\n",
    "        .filter('terms', metier = trades) \\\n",
    "        .filter('range', created = date) \\\n",
    "        .query(esq.Bool(must=esq.Match(lobjet='|'.join(keywords))))\n",
    "\n",
    "    agg = {\"dates\" : A(\"date_histogram\", field=\"created\", calendar_interval=\"month\")}\n",
    "    s.aggs.bucket(\"dates\", agg[\"dates\"])\n",
    "    resp = s.execute()\n",
    "    return resp\n",
    "\n",
    "def data_j360(resp):\n",
    "    \"\"\"\n",
    "    Data wrangling with Pandas\n",
    "    \"\"\"\n",
    "    data = {\"buckets\" : [i._d_ for i in resp.aggregations.dates]}\n",
    "    df = pd.DataFrame.from_dict(data.get(\"buckets\"))\n",
    "    df = df.drop([\"key\"], axis=1)\\\n",
    "       .rename(columns={\"key_as_string\": \"Date\", \"doc_count\":\"Marchés\"})\n",
    "    df['Date'] = pd.to_datetime(df['Date'], format=\"%Y-%m-%d\")\n",
    "    return df"
   ]
  },
  {
   "cell_type": "code",
   "execution_count": 111,
   "metadata": {},
   "outputs": [
    {
     "data": {
      "text/html": [
       "<div>\n",
       "<style scoped>\n",
       "    .dataframe tbody tr th:only-of-type {\n",
       "        vertical-align: middle;\n",
       "    }\n",
       "\n",
       "    .dataframe tbody tr th {\n",
       "        vertical-align: top;\n",
       "    }\n",
       "\n",
       "    .dataframe thead th {\n",
       "        text-align: right;\n",
       "    }\n",
       "</style>\n",
       "<table border=\"1\" class=\"dataframe\">\n",
       "  <thead>\n",
       "    <tr style=\"text-align: right;\">\n",
       "      <th></th>\n",
       "      <th>Date</th>\n",
       "      <th>Marchés</th>\n",
       "    </tr>\n",
       "  </thead>\n",
       "  <tbody>\n",
       "    <tr>\n",
       "      <th>0</th>\n",
       "      <td>2017-01-01 00:00:00+00:00</td>\n",
       "      <td>61</td>\n",
       "    </tr>\n",
       "    <tr>\n",
       "      <th>1</th>\n",
       "      <td>2017-02-01 00:00:00+00:00</td>\n",
       "      <td>70</td>\n",
       "    </tr>\n",
       "    <tr>\n",
       "      <th>2</th>\n",
       "      <td>2017-03-01 00:00:00+00:00</td>\n",
       "      <td>66</td>\n",
       "    </tr>\n",
       "    <tr>\n",
       "      <th>3</th>\n",
       "      <td>2017-04-01 00:00:00+00:00</td>\n",
       "      <td>92</td>\n",
       "    </tr>\n",
       "    <tr>\n",
       "      <th>4</th>\n",
       "      <td>2017-05-01 00:00:00+00:00</td>\n",
       "      <td>76</td>\n",
       "    </tr>\n",
       "  </tbody>\n",
       "</table>\n",
       "</div>"
      ],
      "text/plain": [
       "                       Date  Marchés\n",
       "0 2017-01-01 00:00:00+00:00       61\n",
       "1 2017-02-01 00:00:00+00:00       70\n",
       "2 2017-03-01 00:00:00+00:00       66\n",
       "3 2017-04-01 00:00:00+00:00       92\n",
       "4 2017-05-01 00:00:00+00:00       76"
      ]
     },
     "execution_count": 111,
     "metadata": {},
     "output_type": "execute_result"
    }
   ],
   "source": [
    "resp = get_tenders_volume(trades, keywords, countries, date)\n",
    "\n",
    "df_j360 = data_j360(resp)\n",
    "\n",
    "df_j360.head()"
   ]
  },
  {
   "cell_type": "markdown",
   "metadata": {},
   "source": [
    "## Prédiction du volume des AO à partir du CA issu du commerce extérieur\n",
    "\n",
    "L'objectif principal de l’intégration et du croisement des données externes, est d'offrir aux utilisateurs de Databiz des prédictions statistiques enrichies avec ces données macro-économiques, ainsi que de diminuer le biais qui peut avoir notre base de données du, par exemple, au fait qu’il n’est pas possible de récupérer le 100% des appels d’offres en Europe.\n",
    "\n",
    "### Intègration / croisement de la source externe : Comtrade \n",
    "\n",
    "https://gitlab.com/octopusmind/databiz/-/wikis/COMTRADE"
   ]
  },
  {
   "cell_type": "markdown",
   "metadata": {},
   "source": [
    "#### Données issues de la base COMTRADE"
   ]
  },
  {
   "cell_type": "code",
   "execution_count": 112,
   "metadata": {},
   "outputs": [],
   "source": [
    "from comtrade.documents import ComtradeDocument"
   ]
  },
  {
   "cell_type": "code",
   "execution_count": 113,
   "metadata": {},
   "outputs": [],
   "source": [
    "aggregate_level = 4 # système harmonisé (SH) pour le classement des marchandises \n",
    "reporter = \"France\" # pays déclarant la transaction commerciale\n",
    "trade_flow_code = 1 # 1 importations, 2 exportations, NULLE = les deux types de transactions\n",
    "\n",
    "search = ComtradeDocument().search()\n",
    "\n",
    "# Ces informations (keywords)sont extraites de l'écran de parametrage,\n",
    "# si elles ne sont pas en anglais, une traduction doit être faite.\n",
    "search = search.filter(esq.Bool(must=esq.Match(commodity='|'.join(keywords)))) #only english\n",
    "# search = search.filter(QueryString(default_field=\"commodity\",query= '|'.join(keywords)))\n",
    "\n",
    "search = search.filter('term', reporter = reporter) \\\n",
    "               .filter('term', aggregate_level = aggregate_level) \\\n",
    "               .filter('term', trade_flow_code = trade_flow_code)\n",
    "\n",
    "# these fields slop our information\n",
    "search = search.filter(esq.Bool(must_not = esq.Match(partner = \"World\")))\n",
    "\n",
    "# search.count()"
   ]
  },
  {
   "cell_type": "code",
   "execution_count": 114,
   "metadata": {},
   "outputs": [],
   "source": [
    "# aggretation\n",
    "agg= {\n",
    "    \"dates\": A(\"terms\", field=\"period\"),\n",
    "    \"total\": A(\"sum\", field=\"trade_value\")\n",
    "    }\n",
    "\n",
    "search.aggs.bucket(\"dates\", agg[\"dates\"]). \\\n",
    "       bucket(\"sum_bucket\", agg[\"total\"])\n",
    "\n",
    "resp = search.execute()"
   ]
  },
  {
   "cell_type": "code",
   "execution_count": 115,
   "metadata": {},
   "outputs": [
    {
     "data": {
      "text/html": [
       "<div>\n",
       "<style scoped>\n",
       "    .dataframe tbody tr th:only-of-type {\n",
       "        vertical-align: middle;\n",
       "    }\n",
       "\n",
       "    .dataframe tbody tr th {\n",
       "        vertical-align: top;\n",
       "    }\n",
       "\n",
       "    .dataframe thead th {\n",
       "        text-align: right;\n",
       "    }\n",
       "</style>\n",
       "<table border=\"1\" class=\"dataframe\">\n",
       "  <thead>\n",
       "    <tr style=\"text-align: right;\">\n",
       "      <th></th>\n",
       "      <th>Date</th>\n",
       "      <th>doc_count</th>\n",
       "      <th>total</th>\n",
       "    </tr>\n",
       "  </thead>\n",
       "  <tbody>\n",
       "    <tr>\n",
       "      <th>1</th>\n",
       "      <td>2016-01-01</td>\n",
       "      <td>263</td>\n",
       "      <td>5070194645</td>\n",
       "    </tr>\n",
       "    <tr>\n",
       "      <th>0</th>\n",
       "      <td>2017-01-01</td>\n",
       "      <td>274</td>\n",
       "      <td>5236331152</td>\n",
       "    </tr>\n",
       "    <tr>\n",
       "      <th>2</th>\n",
       "      <td>2018-01-01</td>\n",
       "      <td>259</td>\n",
       "      <td>5341324861</td>\n",
       "    </tr>\n",
       "  </tbody>\n",
       "</table>\n",
       "</div>"
      ],
      "text/plain": [
       "        Date  doc_count       total\n",
       "1 2016-01-01        263  5070194645\n",
       "0 2017-01-01        274  5236331152\n",
       "2 2018-01-01        259  5341324861"
      ]
     },
     "execution_count": 115,
     "metadata": {},
     "output_type": "execute_result"
    }
   ],
   "source": [
    "# Transformation du résultat en dataframe\n",
    "data = {\"buckets\" : [i._d_ for i in resp.aggregations.dates]}\n",
    "df = pd.DataFrame.from_dict(data.get(\"buckets\"))\n",
    "\n",
    "# date\n",
    "df = df.rename(columns={\"key\": \"Date\"})\n",
    "df['Date'] = pd.to_datetime(df['Date'], format=\"%Y\")\n",
    "df_comtrade = df.sort_values(by=\"Date\")\n",
    "\n",
    "# total\n",
    "df_comtrade['total'] = df_comtrade['sum_bucket'].apply(lambda x: x.get('value'))\n",
    "df_comtrade['total'] = df_comtrade['total'].astype('int')\n",
    "\n",
    "df_comtrade = df_comtrade.drop([\"sum_bucket\"], axis=1)\n",
    "df_comtrade.head()"
   ]
  },
  {
   "cell_type": "code",
   "execution_count": 116,
   "metadata": {},
   "outputs": [
    {
     "data": {
      "text/html": [
       "<div>\n",
       "<style scoped>\n",
       "    .dataframe tbody tr th:only-of-type {\n",
       "        vertical-align: middle;\n",
       "    }\n",
       "\n",
       "    .dataframe tbody tr th {\n",
       "        vertical-align: top;\n",
       "    }\n",
       "\n",
       "    .dataframe thead th {\n",
       "        text-align: right;\n",
       "    }\n",
       "</style>\n",
       "<table border=\"1\" class=\"dataframe\">\n",
       "  <thead>\n",
       "    <tr style=\"text-align: right;\">\n",
       "      <th></th>\n",
       "      <th>Date</th>\n",
       "      <th>doc_count</th>\n",
       "      <th>total</th>\n",
       "      <th>year</th>\n",
       "    </tr>\n",
       "  </thead>\n",
       "  <tbody>\n",
       "    <tr>\n",
       "      <th>1</th>\n",
       "      <td>2016-01-01</td>\n",
       "      <td>263</td>\n",
       "      <td>5070194645</td>\n",
       "      <td>2016</td>\n",
       "    </tr>\n",
       "    <tr>\n",
       "      <th>0</th>\n",
       "      <td>2017-01-01</td>\n",
       "      <td>274</td>\n",
       "      <td>5236331152</td>\n",
       "      <td>2017</td>\n",
       "    </tr>\n",
       "    <tr>\n",
       "      <th>2</th>\n",
       "      <td>2018-01-01</td>\n",
       "      <td>259</td>\n",
       "      <td>5341324861</td>\n",
       "      <td>2018</td>\n",
       "    </tr>\n",
       "  </tbody>\n",
       "</table>\n",
       "</div>"
      ],
      "text/plain": [
       "        Date  doc_count       total  year\n",
       "1 2016-01-01        263  5070194645  2016\n",
       "0 2017-01-01        274  5236331152  2017\n",
       "2 2018-01-01        259  5341324861  2018"
      ]
     },
     "execution_count": 116,
     "metadata": {},
     "output_type": "execute_result"
    }
   ],
   "source": [
    "df_comtrade['year'] = pd.DatetimeIndex(df_comtrade['Date']).year\n",
    "df_comtrade.head()"
   ]
  },
  {
   "cell_type": "markdown",
   "metadata": {},
   "source": [
    "#### Données J360"
   ]
  },
  {
   "cell_type": "code",
   "execution_count": 117,
   "metadata": {},
   "outputs": [
    {
     "name": "stdout",
     "output_type": "stream",
     "text": [
      "(36, 2)\n"
     ]
    },
    {
     "data": {
      "text/html": [
       "<div>\n",
       "<style scoped>\n",
       "    .dataframe tbody tr th:only-of-type {\n",
       "        vertical-align: middle;\n",
       "    }\n",
       "\n",
       "    .dataframe tbody tr th {\n",
       "        vertical-align: top;\n",
       "    }\n",
       "\n",
       "    .dataframe thead th {\n",
       "        text-align: right;\n",
       "    }\n",
       "</style>\n",
       "<table border=\"1\" class=\"dataframe\">\n",
       "  <thead>\n",
       "    <tr style=\"text-align: right;\">\n",
       "      <th></th>\n",
       "      <th>Date</th>\n",
       "      <th>Marchés</th>\n",
       "    </tr>\n",
       "  </thead>\n",
       "  <tbody>\n",
       "    <tr>\n",
       "      <th>0</th>\n",
       "      <td>2017-01-01</td>\n",
       "      <td>61</td>\n",
       "    </tr>\n",
       "    <tr>\n",
       "      <th>1</th>\n",
       "      <td>2017-02-01</td>\n",
       "      <td>70</td>\n",
       "    </tr>\n",
       "    <tr>\n",
       "      <th>2</th>\n",
       "      <td>2017-03-01</td>\n",
       "      <td>66</td>\n",
       "    </tr>\n",
       "    <tr>\n",
       "      <th>3</th>\n",
       "      <td>2017-04-01</td>\n",
       "      <td>92</td>\n",
       "    </tr>\n",
       "    <tr>\n",
       "      <th>4</th>\n",
       "      <td>2017-05-01</td>\n",
       "      <td>76</td>\n",
       "    </tr>\n",
       "  </tbody>\n",
       "</table>\n",
       "</div>"
      ],
      "text/plain": [
       "        Date  Marchés\n",
       "0 2017-01-01       61\n",
       "1 2017-02-01       70\n",
       "2 2017-03-01       66\n",
       "3 2017-04-01       92\n",
       "4 2017-05-01       76"
      ]
     },
     "execution_count": 117,
     "metadata": {},
     "output_type": "execute_result"
    }
   ],
   "source": [
    "df_j360['Date'] = pd.to_datetime(df_j360['Date'], format=\"%Y-%m\")\n",
    "df_j360['Date'] = df_j360['Date'].dt.tz_localize(None)\n",
    "\n",
    "print(df_j360.shape)\n",
    "df_j360.head()"
   ]
  },
  {
   "cell_type": "markdown",
   "metadata": {},
   "source": [
    "#### Ratio de pondération du CA\n",
    "\n",
    "Pondérer un indice ou une statistique consiste à donner aux valeurs qui les composent un poids différent (un coefficient de pondération), en fonction des divers critères qui rendent compte de l'importance relative de chacun des éléments. L’objectif est de corriger la représentativité de l’échantillon en fonction de certaines variables clés afin d’être en mesure d’extrapoler les résultats à la population.\n",
    "\n",
    "Nous considérons ici que ce CA sont la somme des marchés gagnants. Nous calculons donc le rapport entre les marchés mensuels et la somme du total annuel et le pondérons en fonction dU CA total annuel. "
   ]
  },
  {
   "cell_type": "code",
   "execution_count": 118,
   "metadata": {},
   "outputs": [],
   "source": [
    "df_j360['year'] = pd.DatetimeIndex(df_j360['Date']).year\n",
    "df_j360['month'] = pd.DatetimeIndex(df_j360['Date']).month\n",
    "\n",
    "groupped_year = df_j360.groupby([\"year\",\"month\"]).agg({'Marchés': 'sum'})\n",
    "groupped_year[\"ad_percent\"] = groupped_year.groupby(level=0)\\\n",
    "                                .apply(lambda month: (month / month.sum()))"
   ]
  },
  {
   "cell_type": "code",
   "execution_count": 119,
   "metadata": {},
   "outputs": [
    {
     "data": {
      "text/html": [
       "<div>\n",
       "<style scoped>\n",
       "    .dataframe tbody tr th:only-of-type {\n",
       "        vertical-align: middle;\n",
       "    }\n",
       "\n",
       "    .dataframe tbody tr th {\n",
       "        vertical-align: top;\n",
       "    }\n",
       "\n",
       "    .dataframe thead th {\n",
       "        text-align: right;\n",
       "    }\n",
       "</style>\n",
       "<table border=\"1\" class=\"dataframe\">\n",
       "  <thead>\n",
       "    <tr style=\"text-align: right;\">\n",
       "      <th></th>\n",
       "      <th>Date</th>\n",
       "      <th>Marchés</th>\n",
       "      <th>year</th>\n",
       "      <th>month</th>\n",
       "      <th>ad_percent</th>\n",
       "    </tr>\n",
       "  </thead>\n",
       "  <tbody>\n",
       "    <tr>\n",
       "      <th>0</th>\n",
       "      <td>2017-01-01</td>\n",
       "      <td>61</td>\n",
       "      <td>2017</td>\n",
       "      <td>1</td>\n",
       "      <td>0.061184</td>\n",
       "    </tr>\n",
       "    <tr>\n",
       "      <th>1</th>\n",
       "      <td>2017-02-01</td>\n",
       "      <td>70</td>\n",
       "      <td>2017</td>\n",
       "      <td>2</td>\n",
       "      <td>0.070211</td>\n",
       "    </tr>\n",
       "    <tr>\n",
       "      <th>2</th>\n",
       "      <td>2017-03-01</td>\n",
       "      <td>66</td>\n",
       "      <td>2017</td>\n",
       "      <td>3</td>\n",
       "      <td>0.066199</td>\n",
       "    </tr>\n",
       "    <tr>\n",
       "      <th>3</th>\n",
       "      <td>2017-04-01</td>\n",
       "      <td>92</td>\n",
       "      <td>2017</td>\n",
       "      <td>4</td>\n",
       "      <td>0.092277</td>\n",
       "    </tr>\n",
       "    <tr>\n",
       "      <th>4</th>\n",
       "      <td>2017-05-01</td>\n",
       "      <td>76</td>\n",
       "      <td>2017</td>\n",
       "      <td>5</td>\n",
       "      <td>0.076229</td>\n",
       "    </tr>\n",
       "  </tbody>\n",
       "</table>\n",
       "</div>"
      ],
      "text/plain": [
       "        Date  Marchés  year  month  ad_percent\n",
       "0 2017-01-01       61  2017      1    0.061184\n",
       "1 2017-02-01       70  2017      2    0.070211\n",
       "2 2017-03-01       66  2017      3    0.066199\n",
       "3 2017-04-01       92  2017      4    0.092277\n",
       "4 2017-05-01       76  2017      5    0.076229"
      ]
     },
     "execution_count": 119,
     "metadata": {},
     "output_type": "execute_result"
    }
   ],
   "source": [
    "ad_percent_colonne = pd.Series.tolist(groupped_year[\"ad_percent\"])\n",
    "\n",
    "ad_percent_colonne = pd.DataFrame(ad_percent_colonne, index=df_j360.index)\n",
    "\n",
    "df_j360[\"ad_percent\"] = ad_percent_colonne\n",
    "\n",
    "df_j360.head()"
   ]
  },
  {
   "cell_type": "code",
   "execution_count": 120,
   "metadata": {},
   "outputs": [
    {
     "data": {
      "text/html": [
       "<div>\n",
       "<style scoped>\n",
       "    .dataframe tbody tr th:only-of-type {\n",
       "        vertical-align: middle;\n",
       "    }\n",
       "\n",
       "    .dataframe tbody tr th {\n",
       "        vertical-align: top;\n",
       "    }\n",
       "\n",
       "    .dataframe thead th {\n",
       "        text-align: right;\n",
       "    }\n",
       "</style>\n",
       "<table border=\"1\" class=\"dataframe\">\n",
       "  <thead>\n",
       "    <tr style=\"text-align: right;\">\n",
       "      <th></th>\n",
       "      <th>Date</th>\n",
       "      <th>Marchés</th>\n",
       "      <th>year</th>\n",
       "      <th>ad_percent</th>\n",
       "      <th>CA_importations</th>\n",
       "      <th>weighted_income</th>\n",
       "    </tr>\n",
       "  </thead>\n",
       "  <tbody>\n",
       "    <tr>\n",
       "      <th>0</th>\n",
       "      <td>2017-01-01</td>\n",
       "      <td>61</td>\n",
       "      <td>2017</td>\n",
       "      <td>0.061184</td>\n",
       "      <td>5236331152</td>\n",
       "      <td>3.203773e+08</td>\n",
       "    </tr>\n",
       "    <tr>\n",
       "      <th>1</th>\n",
       "      <td>2017-02-01</td>\n",
       "      <td>70</td>\n",
       "      <td>2017</td>\n",
       "      <td>0.070211</td>\n",
       "      <td>5236331152</td>\n",
       "      <td>3.676461e+08</td>\n",
       "    </tr>\n",
       "    <tr>\n",
       "      <th>2</th>\n",
       "      <td>2017-03-01</td>\n",
       "      <td>66</td>\n",
       "      <td>2017</td>\n",
       "      <td>0.066199</td>\n",
       "      <td>5236331152</td>\n",
       "      <td>3.466378e+08</td>\n",
       "    </tr>\n",
       "    <tr>\n",
       "      <th>3</th>\n",
       "      <td>2017-04-01</td>\n",
       "      <td>92</td>\n",
       "      <td>2017</td>\n",
       "      <td>0.092277</td>\n",
       "      <td>5236331152</td>\n",
       "      <td>4.831920e+08</td>\n",
       "    </tr>\n",
       "    <tr>\n",
       "      <th>4</th>\n",
       "      <td>2017-05-01</td>\n",
       "      <td>76</td>\n",
       "      <td>2017</td>\n",
       "      <td>0.076229</td>\n",
       "      <td>5236331152</td>\n",
       "      <td>3.991586e+08</td>\n",
       "    </tr>\n",
       "  </tbody>\n",
       "</table>\n",
       "</div>"
      ],
      "text/plain": [
       "        Date  Marchés  year  ad_percent  CA_importations  weighted_income\n",
       "0 2017-01-01       61  2017    0.061184       5236331152     3.203773e+08\n",
       "1 2017-02-01       70  2017    0.070211       5236331152     3.676461e+08\n",
       "2 2017-03-01       66  2017    0.066199       5236331152     3.466378e+08\n",
       "3 2017-04-01       92  2017    0.092277       5236331152     4.831920e+08\n",
       "4 2017-05-01       76  2017    0.076229       5236331152     3.991586e+08"
      ]
     },
     "execution_count": 120,
     "metadata": {},
     "output_type": "execute_result"
    }
   ],
   "source": [
    "df_wt = pd.merge(df_j360, df_comtrade, left_on=\"year\", right_on=\"year\",  how=\"inner\")\n",
    "\n",
    "df_wt[\"weighted_income\"] = df_wt[\"ad_percent\"] * df_wt[\"total\"]\n",
    "\n",
    "df_wt = df_wt.drop([\"doc_count\", \"month\", \"Date_y\"], axis=1)\\\n",
    "                  .sort_values(by=\"Date_x\") \\\n",
    "                  .rename(columns={\"total\":\"CA_importations\", \"Date_x\":\"Date\"})\n",
    "\n",
    "df_wt.head()"
   ]
  },
  {
   "cell_type": "markdown",
   "metadata": {},
   "source": [
    "La première conclusion évidente est que nous ne disposons toujours pas de suffisamment de données historiques (seulement quelques années) pour faire des prévisions très fiables. Cependant, il est possible d'établir des modèles (algorithmes) qui seront automatiquement alimentés dans le futur avec de nouvelles données entrantes.\n",
    "\n",
    "Mais nous pouvons déjà savoir s'il y a une corrélation entre les données."
   ]
  },
  {
   "cell_type": "markdown",
   "metadata": {},
   "source": [
    "### Normalisation"
   ]
  },
  {
   "cell_type": "code",
   "execution_count": 121,
   "metadata": {},
   "outputs": [
    {
     "data": {
      "text/html": [
       "<div>\n",
       "<style scoped>\n",
       "    .dataframe tbody tr th:only-of-type {\n",
       "        vertical-align: middle;\n",
       "    }\n",
       "\n",
       "    .dataframe tbody tr th {\n",
       "        vertical-align: top;\n",
       "    }\n",
       "\n",
       "    .dataframe thead th {\n",
       "        text-align: right;\n",
       "    }\n",
       "</style>\n",
       "<table border=\"1\" class=\"dataframe\">\n",
       "  <thead>\n",
       "    <tr style=\"text-align: right;\">\n",
       "      <th></th>\n",
       "      <th>Marchés</th>\n",
       "      <th>CA_importations</th>\n",
       "    </tr>\n",
       "  </thead>\n",
       "  <tbody>\n",
       "    <tr>\n",
       "      <th>0</th>\n",
       "      <td>0.516949</td>\n",
       "      <td>0.980343</td>\n",
       "    </tr>\n",
       "    <tr>\n",
       "      <th>1</th>\n",
       "      <td>0.593220</td>\n",
       "      <td>0.980343</td>\n",
       "    </tr>\n",
       "    <tr>\n",
       "      <th>2</th>\n",
       "      <td>0.559322</td>\n",
       "      <td>0.980343</td>\n",
       "    </tr>\n",
       "    <tr>\n",
       "      <th>3</th>\n",
       "      <td>0.779661</td>\n",
       "      <td>0.980343</td>\n",
       "    </tr>\n",
       "    <tr>\n",
       "      <th>4</th>\n",
       "      <td>0.644068</td>\n",
       "      <td>0.980343</td>\n",
       "    </tr>\n",
       "  </tbody>\n",
       "</table>\n",
       "</div>"
      ],
      "text/plain": [
       "    Marchés  CA_importations\n",
       "0  0.516949         0.980343\n",
       "1  0.593220         0.980343\n",
       "2  0.559322         0.980343\n",
       "3  0.779661         0.980343\n",
       "4  0.644068         0.980343"
      ]
     },
     "execution_count": 121,
     "metadata": {},
     "output_type": "execute_result"
    }
   ],
   "source": [
    "df_normal = df_wt[[\"Marchés\",\"CA_importations\"]].apply(lambda x: x/x.max(), axis=0)\n",
    "df_normal.head()"
   ]
  },
  {
   "cell_type": "markdown",
   "metadata": {},
   "source": [
    "### Correlation\n",
    "\n",
    "Le coefficient de corrélation est compris entre -1 et +1.\n",
    "\n",
    "Plus il s'éloigne de zéro, meilleure est la corrélation.\n",
    "\n",
    "r = +1 : corrélation positive parfaite\n",
    "\n",
    "r = -1 : corrélation négative parfaite\n",
    "\n",
    "r = 0 : absence totale de corrélation"
   ]
  },
  {
   "cell_type": "code",
   "execution_count": 122,
   "metadata": {},
   "outputs": [
    {
     "data": {
      "text/html": [
       "<div>\n",
       "<style scoped>\n",
       "    .dataframe tbody tr th:only-of-type {\n",
       "        vertical-align: middle;\n",
       "    }\n",
       "\n",
       "    .dataframe tbody tr th {\n",
       "        vertical-align: top;\n",
       "    }\n",
       "\n",
       "    .dataframe thead th {\n",
       "        text-align: right;\n",
       "    }\n",
       "</style>\n",
       "<table border=\"1\" class=\"dataframe\">\n",
       "  <thead>\n",
       "    <tr style=\"text-align: right;\">\n",
       "      <th></th>\n",
       "      <th>Marchés</th>\n",
       "      <th>CA_importations</th>\n",
       "    </tr>\n",
       "  </thead>\n",
       "  <tbody>\n",
       "    <tr>\n",
       "      <th>Marchés</th>\n",
       "      <td>1.000000</td>\n",
       "      <td>-0.415386</td>\n",
       "    </tr>\n",
       "    <tr>\n",
       "      <th>CA_importations</th>\n",
       "      <td>-0.415386</td>\n",
       "      <td>1.000000</td>\n",
       "    </tr>\n",
       "  </tbody>\n",
       "</table>\n",
       "</div>"
      ],
      "text/plain": [
       "                  Marchés  CA_importations\n",
       "Marchés          1.000000        -0.415386\n",
       "CA_importations -0.415386         1.000000"
      ]
     },
     "execution_count": 122,
     "metadata": {},
     "output_type": "execute_result"
    }
   ],
   "source": [
    "df_normal.corr()"
   ]
  },
  {
   "cell_type": "markdown",
   "metadata": {},
   "source": [
    "Le calcul de corrélation (corr) entre les importations des produits liés à l'activité commercial des utilisateurs de Databiz, indique s’il existe une correspondance entre ces variables et la variable à prédire (soit le volume des marchés, soit le CA) . Par exemple, un coefficient positif indique qu'à mesure que la valeur des exportations augmente, la moyenne de la variable du volume des marchés a également tendance à augmenter "
   ]
  },
  {
   "cell_type": "markdown",
   "metadata": {},
   "source": [
    "### Analyse graphique du croisement des données"
   ]
  },
  {
   "cell_type": "code",
   "execution_count": 123,
   "metadata": {},
   "outputs": [
    {
     "data": {
      "text/html": [
       "\n",
       "<div id=\"altair-viz-b3c07d348d9446c690334d91afd5deae\"></div>\n",
       "<script type=\"text/javascript\">\n",
       "  (function(spec, embedOpt){\n",
       "    let outputDiv = document.currentScript.previousElementSibling;\n",
       "    if (outputDiv.id !== \"altair-viz-b3c07d348d9446c690334d91afd5deae\") {\n",
       "      outputDiv = document.getElementById(\"altair-viz-b3c07d348d9446c690334d91afd5deae\");\n",
       "    }\n",
       "    const paths = {\n",
       "      \"vega\": \"https://cdn.jsdelivr.net/npm//vega@5?noext\",\n",
       "      \"vega-lib\": \"https://cdn.jsdelivr.net/npm//vega-lib?noext\",\n",
       "      \"vega-lite\": \"https://cdn.jsdelivr.net/npm//vega-lite@4.8.1?noext\",\n",
       "      \"vega-embed\": \"https://cdn.jsdelivr.net/npm//vega-embed@6?noext\",\n",
       "    };\n",
       "\n",
       "    function loadScript(lib) {\n",
       "      return new Promise(function(resolve, reject) {\n",
       "        var s = document.createElement('script');\n",
       "        s.src = paths[lib];\n",
       "        s.async = true;\n",
       "        s.onload = () => resolve(paths[lib]);\n",
       "        s.onerror = () => reject(`Error loading script: ${paths[lib]}`);\n",
       "        document.getElementsByTagName(\"head\")[0].appendChild(s);\n",
       "      });\n",
       "    }\n",
       "\n",
       "    function showError(err) {\n",
       "      outputDiv.innerHTML = `<div class=\"error\" style=\"color:red;\">${err}</div>`;\n",
       "      throw err;\n",
       "    }\n",
       "\n",
       "    function displayChart(vegaEmbed) {\n",
       "      vegaEmbed(outputDiv, spec, embedOpt)\n",
       "        .catch(err => showError(`Javascript Error: ${err.message}<br>This usually means there's a typo in your chart specification. See the javascript console for the full traceback.`));\n",
       "    }\n",
       "\n",
       "    if(typeof define === \"function\" && define.amd) {\n",
       "      requirejs.config({paths});\n",
       "      require([\"vega-embed\"], displayChart, err => showError(`Error loading script: ${err.message}`));\n",
       "    } else if (typeof vegaEmbed === \"function\") {\n",
       "      displayChart(vegaEmbed);\n",
       "    } else {\n",
       "      loadScript(\"vega\")\n",
       "        .then(() => loadScript(\"vega-lite\"))\n",
       "        .then(() => loadScript(\"vega-embed\"))\n",
       "        .catch(showError)\n",
       "        .then(() => displayChart(vegaEmbed));\n",
       "    }\n",
       "  })({\"config\": {\"view\": {\"continuousWidth\": 400, \"continuousHeight\": 300}}, \"layer\": [{\"mark\": {\"type\": \"line\", \"color\": \"#57A44C\", \"opacity\": 0.3}, \"encoding\": {\"x\": {\"type\": \"temporal\", \"axis\": {\"title\": null}, \"field\": \"Date\"}, \"y\": {\"type\": \"quantitative\", \"axis\": {\"title\": \"AOs\", \"titleColor\": \"#5276A7\"}, \"field\": \"March\\u00e9s\"}}}, {\"mark\": {\"type\": \"line\", \"interpolate\": \"monotone\", \"stroke\": \"#5276A7\"}, \"encoding\": {\"x\": {\"type\": \"temporal\", \"axis\": {\"title\": null}, \"field\": \"Date\"}, \"y\": {\"type\": \"quantitative\", \"axis\": {\"title\": \"CA ($) - issu des importations\", \"titleColor\": \"#5276A7\"}, \"field\": \"weighted_income\"}}}], \"data\": {\"name\": \"data-c209b44931fe39fcbcd59a6bfd465127\"}, \"resolve\": {\"scale\": {\"y\": \"independent\"}}, \"$schema\": \"https://vega.github.io/schema/vega-lite/v4.8.1.json\", \"datasets\": {\"data-c209b44931fe39fcbcd59a6bfd465127\": [{\"Date\": \"2017-01-01T00:00:00\", \"March\\u00e9s\": 61, \"year\": 2017, \"ad_percent\": 0.06118355065195587, \"CA_importations\": 5236331152, \"weighted_income\": 320377332.2688064}, {\"Date\": \"2017-02-01T00:00:00\", \"March\\u00e9s\": 70, \"year\": 2017, \"ad_percent\": 0.07021063189568706, \"CA_importations\": 5236331152, \"weighted_income\": 367646118.996991}, {\"Date\": \"2017-03-01T00:00:00\", \"March\\u00e9s\": 66, \"year\": 2017, \"ad_percent\": 0.06619859578736209, \"CA_importations\": 5236331152, \"weighted_income\": 346637769.34002006}, {\"Date\": \"2017-04-01T00:00:00\", \"March\\u00e9s\": 92, \"year\": 2017, \"ad_percent\": 0.09227683049147442, \"CA_importations\": 5236331152, \"weighted_income\": 483192042.110331}, {\"Date\": \"2017-05-01T00:00:00\", \"March\\u00e9s\": 76, \"year\": 2017, \"ad_percent\": 0.07622868605817452, \"CA_importations\": 5236331152, \"weighted_income\": 399158643.4824473}, {\"Date\": \"2017-06-01T00:00:00\", \"March\\u00e9s\": 79, \"year\": 2017, \"ad_percent\": 0.07923771313941826, \"CA_importations\": 5236331152, \"weighted_income\": 414914905.72517556}, {\"Date\": \"2017-07-01T00:00:00\", \"March\\u00e9s\": 118, \"year\": 2017, \"ad_percent\": 0.11835506519558676, \"CA_importations\": 5236331152, \"weighted_income\": 619746314.8806419}, {\"Date\": \"2017-08-01T00:00:00\", \"March\\u00e9s\": 93, \"year\": 2017, \"ad_percent\": 0.09327983951855567, \"CA_importations\": 5236331152, \"weighted_income\": 488444129.52457374}, {\"Date\": \"2017-09-01T00:00:00\", \"March\\u00e9s\": 89, \"year\": 2017, \"ad_percent\": 0.08926780341023069, \"CA_importations\": 5236331152, \"weighted_income\": 467435779.86760277}, {\"Date\": \"2017-10-01T00:00:00\", \"March\\u00e9s\": 89, \"year\": 2017, \"ad_percent\": 0.08926780341023069, \"CA_importations\": 5236331152, \"weighted_income\": 467435779.86760277}, {\"Date\": \"2017-11-01T00:00:00\", \"March\\u00e9s\": 67, \"year\": 2017, \"ad_percent\": 0.06720160481444333, \"CA_importations\": 5236331152, \"weighted_income\": 351889856.7542628}, {\"Date\": \"2017-12-01T00:00:00\", \"March\\u00e9s\": 97, \"year\": 2017, \"ad_percent\": 0.09729187562688064, \"CA_importations\": 5236331152, \"weighted_income\": 509452479.18154466}, {\"Date\": \"2018-01-01T00:00:00\", \"March\\u00e9s\": 48, \"year\": 2018, \"ad_percent\": 0.057971014492753624, \"CA_importations\": 5341324861, \"weighted_income\": 309642020.92753625}, {\"Date\": \"2018-02-01T00:00:00\", \"March\\u00e9s\": 73, \"year\": 2018, \"ad_percent\": 0.08816425120772947, \"CA_importations\": 5341324861, \"weighted_income\": 470913906.8272947}, {\"Date\": \"2018-03-01T00:00:00\", \"March\\u00e9s\": 75, \"year\": 2018, \"ad_percent\": 0.09057971014492754, \"CA_importations\": 5341324861, \"weighted_income\": 483815657.6992754}, {\"Date\": \"2018-04-01T00:00:00\", \"March\\u00e9s\": 50, \"year\": 2018, \"ad_percent\": 0.06038647342995169, \"CA_importations\": 5341324861, \"weighted_income\": 322543771.7995169}, {\"Date\": \"2018-05-01T00:00:00\", \"March\\u00e9s\": 62, \"year\": 2018, \"ad_percent\": 0.0748792270531401, \"CA_importations\": 5341324861, \"weighted_income\": 399954277.031401}, {\"Date\": \"2018-06-01T00:00:00\", \"March\\u00e9s\": 82, \"year\": 2018, \"ad_percent\": 0.09903381642512077, \"CA_importations\": 5341324861, \"weighted_income\": 528971785.7512077}, {\"Date\": \"2018-07-01T00:00:00\", \"March\\u00e9s\": 94, \"year\": 2018, \"ad_percent\": 0.11352657004830918, \"CA_importations\": 5341324861, \"weighted_income\": 606382290.9830918}, {\"Date\": \"2018-08-01T00:00:00\", \"March\\u00e9s\": 57, \"year\": 2018, \"ad_percent\": 0.06884057971014493, \"CA_importations\": 5341324861, \"weighted_income\": 367699899.85144925}, {\"Date\": \"2018-09-01T00:00:00\", \"March\\u00e9s\": 69, \"year\": 2018, \"ad_percent\": 0.08333333333333333, \"CA_importations\": 5341324861, \"weighted_income\": 445110405.0833333}, {\"Date\": \"2018-10-01T00:00:00\", \"March\\u00e9s\": 96, \"year\": 2018, \"ad_percent\": 0.11594202898550725, \"CA_importations\": 5341324861, \"weighted_income\": 619284041.8550725}, {\"Date\": \"2018-11-01T00:00:00\", \"March\\u00e9s\": 55, \"year\": 2018, \"ad_percent\": 0.06642512077294686, \"CA_importations\": 5341324861, \"weighted_income\": 354798148.97946864}, {\"Date\": \"2018-12-01T00:00:00\", \"March\\u00e9s\": 67, \"year\": 2018, \"ad_percent\": 0.08091787439613526, \"CA_importations\": 5341324861, \"weighted_income\": 432208654.21135265}]}}, {\"mode\": \"vega-lite\"});\n",
       "</script>"
      ],
      "text/plain": [
       "alt.LayerChart(...)"
      ]
     },
     "execution_count": 123,
     "metadata": {},
     "output_type": "execute_result"
    }
   ],
   "source": [
    "base = alt.Chart(df_wt).encode(\n",
    "    alt.X('Date:T', axis=alt.Axis(title=None))\n",
    ")\n",
    "\n",
    "line_1 = base.mark_line(opacity=0.3, color='#57A44C').encode(\n",
    "    alt.Y('Marchés',\n",
    "          axis=alt.Axis(title='AOs', titleColor='#5276A7'))\n",
    ")\n",
    "\n",
    "line_2 = base.mark_line(stroke='#5276A7', interpolate='monotone').encode(\n",
    "    alt.Y('weighted_income',\n",
    "          axis=alt.Axis(title='CA ($) - issu des importations', titleColor='#5276A7'))\n",
    ")\n",
    "\n",
    "alt.layer(line_1, line_2).resolve_scale(\n",
    "    y = 'independent'\n",
    ")"
   ]
  },
  {
   "cell_type": "markdown",
   "metadata": {},
   "source": [
    "## Regression\n",
    "\n",
    "On créer ici une éstimation/prédiction des marchés à partir du CA des importations des produits ou servis lies au métier de l'utilisateur de Databiz. On part du fait qu'il existe une corrélation entre la commande publique et le commerce exterior. Par exemple, l'augmentation des importations (croissance de la demande interne) des masques chirurgicales en France est corrélée à une augmentation des appels d'offres d'achat de ce produit médical. "
   ]
  },
  {
   "cell_type": "code",
   "execution_count": 124,
   "metadata": {},
   "outputs": [
    {
     "data": {
      "text/html": [
       "\n",
       "<div id=\"altair-viz-b9da515b444847f8bc3fe1690f005844\"></div>\n",
       "<script type=\"text/javascript\">\n",
       "  (function(spec, embedOpt){\n",
       "    let outputDiv = document.currentScript.previousElementSibling;\n",
       "    if (outputDiv.id !== \"altair-viz-b9da515b444847f8bc3fe1690f005844\") {\n",
       "      outputDiv = document.getElementById(\"altair-viz-b9da515b444847f8bc3fe1690f005844\");\n",
       "    }\n",
       "    const paths = {\n",
       "      \"vega\": \"https://cdn.jsdelivr.net/npm//vega@5?noext\",\n",
       "      \"vega-lib\": \"https://cdn.jsdelivr.net/npm//vega-lib?noext\",\n",
       "      \"vega-lite\": \"https://cdn.jsdelivr.net/npm//vega-lite@4.8.1?noext\",\n",
       "      \"vega-embed\": \"https://cdn.jsdelivr.net/npm//vega-embed@6?noext\",\n",
       "    };\n",
       "\n",
       "    function loadScript(lib) {\n",
       "      return new Promise(function(resolve, reject) {\n",
       "        var s = document.createElement('script');\n",
       "        s.src = paths[lib];\n",
       "        s.async = true;\n",
       "        s.onload = () => resolve(paths[lib]);\n",
       "        s.onerror = () => reject(`Error loading script: ${paths[lib]}`);\n",
       "        document.getElementsByTagName(\"head\")[0].appendChild(s);\n",
       "      });\n",
       "    }\n",
       "\n",
       "    function showError(err) {\n",
       "      outputDiv.innerHTML = `<div class=\"error\" style=\"color:red;\">${err}</div>`;\n",
       "      throw err;\n",
       "    }\n",
       "\n",
       "    function displayChart(vegaEmbed) {\n",
       "      vegaEmbed(outputDiv, spec, embedOpt)\n",
       "        .catch(err => showError(`Javascript Error: ${err.message}<br>This usually means there's a typo in your chart specification. See the javascript console for the full traceback.`));\n",
       "    }\n",
       "\n",
       "    if(typeof define === \"function\" && define.amd) {\n",
       "      requirejs.config({paths});\n",
       "      require([\"vega-embed\"], displayChart, err => showError(`Error loading script: ${err.message}`));\n",
       "    } else if (typeof vegaEmbed === \"function\") {\n",
       "      displayChart(vegaEmbed);\n",
       "    } else {\n",
       "      loadScript(\"vega\")\n",
       "        .then(() => loadScript(\"vega-lite\"))\n",
       "        .then(() => loadScript(\"vega-embed\"))\n",
       "        .catch(showError)\n",
       "        .then(() => displayChart(vegaEmbed));\n",
       "    }\n",
       "  })({\"config\": {\"view\": {\"continuousWidth\": 400, \"continuousHeight\": 300}}, \"layer\": [{\"mark\": {\"type\": \"line\", \"color\": \"darkcyan\", \"opacity\": 0.5}, \"encoding\": {\"x\": {\"type\": \"quantitative\", \"axis\": {\"grid\": false, \"title\": \"Appels d'offres\"}, \"field\": \"weighted_income\"}, \"y\": {\"type\": \"quantitative\", \"axis\": {\"grid\": false, \"title\": \"CA issu des importations\"}, \"field\": \"March\\u00e9s\"}}, \"height\": 400, \"title\": \"AO vs importations\", \"width\": 700}, {\"mark\": {\"type\": \"line\", \"size\": 2}, \"encoding\": {\"x\": {\"type\": \"quantitative\", \"axis\": {\"grid\": false, \"title\": \"Appels d'offres\"}, \"field\": \"weighted_income\"}, \"y\": {\"type\": \"quantitative\", \"axis\": {\"grid\": false, \"title\": \"CA issu des importations\"}, \"field\": \"March\\u00e9s\"}}, \"height\": 400, \"selection\": {\"selector007\": {\"type\": \"interval\", \"bind\": \"scales\", \"encodings\": [\"x\", \"y\"]}}, \"title\": \"AO vs importations\", \"transform\": [{\"on\": \"weighted_income\", \"regression\": \"March\\u00e9s\", \"method\": \"linear\"}], \"width\": 700}], \"data\": {\"name\": \"data-c209b44931fe39fcbcd59a6bfd465127\"}, \"$schema\": \"https://vega.github.io/schema/vega-lite/v4.8.1.json\", \"datasets\": {\"data-c209b44931fe39fcbcd59a6bfd465127\": [{\"Date\": \"2017-01-01T00:00:00\", \"March\\u00e9s\": 61, \"year\": 2017, \"ad_percent\": 0.06118355065195587, \"CA_importations\": 5236331152, \"weighted_income\": 320377332.2688064}, {\"Date\": \"2017-02-01T00:00:00\", \"March\\u00e9s\": 70, \"year\": 2017, \"ad_percent\": 0.07021063189568706, \"CA_importations\": 5236331152, \"weighted_income\": 367646118.996991}, {\"Date\": \"2017-03-01T00:00:00\", \"March\\u00e9s\": 66, \"year\": 2017, \"ad_percent\": 0.06619859578736209, \"CA_importations\": 5236331152, \"weighted_income\": 346637769.34002006}, {\"Date\": \"2017-04-01T00:00:00\", \"March\\u00e9s\": 92, \"year\": 2017, \"ad_percent\": 0.09227683049147442, \"CA_importations\": 5236331152, \"weighted_income\": 483192042.110331}, {\"Date\": \"2017-05-01T00:00:00\", \"March\\u00e9s\": 76, \"year\": 2017, \"ad_percent\": 0.07622868605817452, \"CA_importations\": 5236331152, \"weighted_income\": 399158643.4824473}, {\"Date\": \"2017-06-01T00:00:00\", \"March\\u00e9s\": 79, \"year\": 2017, \"ad_percent\": 0.07923771313941826, \"CA_importations\": 5236331152, \"weighted_income\": 414914905.72517556}, {\"Date\": \"2017-07-01T00:00:00\", \"March\\u00e9s\": 118, \"year\": 2017, \"ad_percent\": 0.11835506519558676, \"CA_importations\": 5236331152, \"weighted_income\": 619746314.8806419}, {\"Date\": \"2017-08-01T00:00:00\", \"March\\u00e9s\": 93, \"year\": 2017, \"ad_percent\": 0.09327983951855567, \"CA_importations\": 5236331152, \"weighted_income\": 488444129.52457374}, {\"Date\": \"2017-09-01T00:00:00\", \"March\\u00e9s\": 89, \"year\": 2017, \"ad_percent\": 0.08926780341023069, \"CA_importations\": 5236331152, \"weighted_income\": 467435779.86760277}, {\"Date\": \"2017-10-01T00:00:00\", \"March\\u00e9s\": 89, \"year\": 2017, \"ad_percent\": 0.08926780341023069, \"CA_importations\": 5236331152, \"weighted_income\": 467435779.86760277}, {\"Date\": \"2017-11-01T00:00:00\", \"March\\u00e9s\": 67, \"year\": 2017, \"ad_percent\": 0.06720160481444333, \"CA_importations\": 5236331152, \"weighted_income\": 351889856.7542628}, {\"Date\": \"2017-12-01T00:00:00\", \"March\\u00e9s\": 97, \"year\": 2017, \"ad_percent\": 0.09729187562688064, \"CA_importations\": 5236331152, \"weighted_income\": 509452479.18154466}, {\"Date\": \"2018-01-01T00:00:00\", \"March\\u00e9s\": 48, \"year\": 2018, \"ad_percent\": 0.057971014492753624, \"CA_importations\": 5341324861, \"weighted_income\": 309642020.92753625}, {\"Date\": \"2018-02-01T00:00:00\", \"March\\u00e9s\": 73, \"year\": 2018, \"ad_percent\": 0.08816425120772947, \"CA_importations\": 5341324861, \"weighted_income\": 470913906.8272947}, {\"Date\": \"2018-03-01T00:00:00\", \"March\\u00e9s\": 75, \"year\": 2018, \"ad_percent\": 0.09057971014492754, \"CA_importations\": 5341324861, \"weighted_income\": 483815657.6992754}, {\"Date\": \"2018-04-01T00:00:00\", \"March\\u00e9s\": 50, \"year\": 2018, \"ad_percent\": 0.06038647342995169, \"CA_importations\": 5341324861, \"weighted_income\": 322543771.7995169}, {\"Date\": \"2018-05-01T00:00:00\", \"March\\u00e9s\": 62, \"year\": 2018, \"ad_percent\": 0.0748792270531401, \"CA_importations\": 5341324861, \"weighted_income\": 399954277.031401}, {\"Date\": \"2018-06-01T00:00:00\", \"March\\u00e9s\": 82, \"year\": 2018, \"ad_percent\": 0.09903381642512077, \"CA_importations\": 5341324861, \"weighted_income\": 528971785.7512077}, {\"Date\": \"2018-07-01T00:00:00\", \"March\\u00e9s\": 94, \"year\": 2018, \"ad_percent\": 0.11352657004830918, \"CA_importations\": 5341324861, \"weighted_income\": 606382290.9830918}, {\"Date\": \"2018-08-01T00:00:00\", \"March\\u00e9s\": 57, \"year\": 2018, \"ad_percent\": 0.06884057971014493, \"CA_importations\": 5341324861, \"weighted_income\": 367699899.85144925}, {\"Date\": \"2018-09-01T00:00:00\", \"March\\u00e9s\": 69, \"year\": 2018, \"ad_percent\": 0.08333333333333333, \"CA_importations\": 5341324861, \"weighted_income\": 445110405.0833333}, {\"Date\": \"2018-10-01T00:00:00\", \"March\\u00e9s\": 96, \"year\": 2018, \"ad_percent\": 0.11594202898550725, \"CA_importations\": 5341324861, \"weighted_income\": 619284041.8550725}, {\"Date\": \"2018-11-01T00:00:00\", \"March\\u00e9s\": 55, \"year\": 2018, \"ad_percent\": 0.06642512077294686, \"CA_importations\": 5341324861, \"weighted_income\": 354798148.97946864}, {\"Date\": \"2018-12-01T00:00:00\", \"March\\u00e9s\": 67, \"year\": 2018, \"ad_percent\": 0.08091787439613526, \"CA_importations\": 5341324861, \"weighted_income\": 432208654.21135265}]}}, {\"mode\": \"vega-lite\"});\n",
       "</script>"
      ],
      "text/plain": [
       "alt.LayerChart(...)"
      ]
     },
     "execution_count": 124,
     "metadata": {},
     "output_type": "execute_result"
    }
   ],
   "source": [
    "base =  alt.Chart(df_wt).encode(\n",
    "    alt.X('weighted_income:Q', axis=alt.Axis(title=\"Appels d'offres\", grid=False)),\n",
    "    alt.Y('Marchés:Q', axis=alt.Axis(title=\"CA issu des importations\", grid=False)),\n",
    "    ).properties(\n",
    "    title= \"AO vs importations\",\n",
    "    width=700,\n",
    "    height=400\n",
    ")\n",
    "\n",
    "# darkcyan cadetblue\n",
    "base.mark_line(color=\"darkcyan\", opacity = 0.5) + base.transform_regression('weighted_income','Marchés', method=\"linear\").mark_line(size=2)\\\n",
    ".encode()\\\n",
    ".interactive()"
   ]
  },
  {
   "cell_type": "markdown",
   "metadata": {},
   "source": [
    "### Coefficients de régression"
   ]
  },
  {
   "cell_type": "code",
   "execution_count": 125,
   "metadata": {},
   "outputs": [],
   "source": [
    "import numpy as np\n",
    "from sklearn.linear_model import LinearRegression"
   ]
  },
  {
   "cell_type": "code",
   "execution_count": 126,
   "metadata": {},
   "outputs": [],
   "source": [
    "df_ml = df_wt[[\"weighted_income\", \"Marchés\"]]"
   ]
  },
  {
   "cell_type": "code",
   "execution_count": 127,
   "metadata": {},
   "outputs": [
    {
     "data": {
      "text/html": [
       "<div>\n",
       "<style scoped>\n",
       "    .dataframe tbody tr th:only-of-type {\n",
       "        vertical-align: middle;\n",
       "    }\n",
       "\n",
       "    .dataframe tbody tr th {\n",
       "        vertical-align: top;\n",
       "    }\n",
       "\n",
       "    .dataframe thead th {\n",
       "        text-align: right;\n",
       "    }\n",
       "</style>\n",
       "<table border=\"1\" class=\"dataframe\">\n",
       "  <thead>\n",
       "    <tr style=\"text-align: right;\">\n",
       "      <th></th>\n",
       "      <th>weighted_income</th>\n",
       "      <th>Marchés</th>\n",
       "    </tr>\n",
       "  </thead>\n",
       "  <tbody>\n",
       "    <tr>\n",
       "      <th>count</th>\n",
       "      <td>2.400000e+01</td>\n",
       "      <td>24.000000</td>\n",
       "    </tr>\n",
       "    <tr>\n",
       "      <th>mean</th>\n",
       "      <td>4.407357e+08</td>\n",
       "      <td>76.041667</td>\n",
       "    </tr>\n",
       "    <tr>\n",
       "      <th>std</th>\n",
       "      <td>9.248800e+07</td>\n",
       "      <td>17.316690</td>\n",
       "    </tr>\n",
       "    <tr>\n",
       "      <th>min</th>\n",
       "      <td>3.096420e+08</td>\n",
       "      <td>48.000000</td>\n",
       "    </tr>\n",
       "    <tr>\n",
       "      <th>25%</th>\n",
       "      <td>3.644341e+08</td>\n",
       "      <td>65.000000</td>\n",
       "    </tr>\n",
       "    <tr>\n",
       "      <th>50%</th>\n",
       "      <td>4.386595e+08</td>\n",
       "      <td>74.000000</td>\n",
       "    </tr>\n",
       "    <tr>\n",
       "      <th>75%</th>\n",
       "      <td>4.849728e+08</td>\n",
       "      <td>89.750000</td>\n",
       "    </tr>\n",
       "    <tr>\n",
       "      <th>max</th>\n",
       "      <td>6.197463e+08</td>\n",
       "      <td>118.000000</td>\n",
       "    </tr>\n",
       "  </tbody>\n",
       "</table>\n",
       "</div>"
      ],
      "text/plain": [
       "       weighted_income     Marchés\n",
       "count     2.400000e+01   24.000000\n",
       "mean      4.407357e+08   76.041667\n",
       "std       9.248800e+07   17.316690\n",
       "min       3.096420e+08   48.000000\n",
       "25%       3.644341e+08   65.000000\n",
       "50%       4.386595e+08   74.000000\n",
       "75%       4.849728e+08   89.750000\n",
       "max       6.197463e+08  118.000000"
      ]
     },
     "execution_count": 127,
     "metadata": {},
     "output_type": "execute_result"
    }
   ],
   "source": [
    "df_ml.describe()"
   ]
  },
  {
   "cell_type": "code",
   "execution_count": 128,
   "metadata": {},
   "outputs": [],
   "source": [
    "X = df_ml.iloc[:, :-1].values # variable-s explicatives"
   ]
  },
  {
   "cell_type": "markdown",
   "metadata": {},
   "source": [
    "Si on veut prédire une variable qualitative (volume des marchés, valeur du secteur) en prenant en compte multiples variables explicatives également qualitatives (dans ce cas par exemple on peut considérer séparément les exportations et les exportations), on peut le faire créer ici un vector X avec elles. \n",
    "Ce type de modèle de prédiction statistique est appelé régression linéaire multiple.\n",
    "\n",
    "Pour en savoir plus : https://heartbeat.fritz.ai/implementing-multiple-linear-regression-using-sklearn-43b3d3f2fe8b"
   ]
  },
  {
   "cell_type": "code",
   "execution_count": null,
   "metadata": {},
   "outputs": [],
   "source": [
    "y = df_ml.iloc[:, 1].values # notre variable à prédir"
   ]
  },
  {
   "cell_type": "code",
   "execution_count": 129,
   "metadata": {},
   "outputs": [],
   "source": [
    "lm = LinearRegression()\n",
    "regr = lm.fit(X, y)"
   ]
  },
  {
   "cell_type": "markdown",
   "metadata": {},
   "source": [
    "Les coefficients de régression représentent le changement moyen de la variable de réponse pour une unité de changement de la variable de prédicteur tout en maintenant les autres prédicteurs dans la constante du modèle. "
   ]
  },
  {
   "cell_type": "code",
   "execution_count": 130,
   "metadata": {},
   "outputs": [
    {
     "name": "stdout",
     "output_type": "stream",
     "text": [
      "Coefficients: \n",
      " [1.65467592e-07]\n"
     ]
    }
   ],
   "source": [
    "# The coefficients\n",
    "print('Coefficients: \\n', regr.coef_)"
   ]
  },
  {
   "cell_type": "markdown",
   "metadata": {},
   "source": [
    "Ces coefficients indiquent la relation entre chaque dollar dépensé et l'existence/création d'offres dans le secteur.\n",
    "\n",
    "Par conséquent, nous pourrions prédire le volume des appels d'offres si nous connaissons ou avons une estimation de la valeur future des importations.\n",
    "\n",
    "Par exemple, avec la crise économique et sanitaire actuelle, si l'on s'attend à ce que les importations de ces produits diminuent de 30% l'année prochaine, nous pourrions adapter notre modèle et prédire les offres estimées."
   ]
  },
  {
   "cell_type": "code",
   "execution_count": 131,
   "metadata": {},
   "outputs": [
    {
     "name": "stderr",
     "output_type": "stream",
     "text": [
      "<ipython-input-131-812fbc57925b>:2: SettingWithCopyWarning: \n",
      "A value is trying to be set on a copy of a slice from a DataFrame.\n",
      "Try using .loc[row_indexer,col_indexer] = value instead\n",
      "\n",
      "See the caveats in the documentation: https://pandas.pydata.org/pandas-docs/stable/user_guide/indexing.html#returning-a-view-versus-a-copy\n",
      "  df_ml[\"weighted_income\"] = df_ml[\"weighted_income\"]*0.70\n"
     ]
    }
   ],
   "source": [
    "# new income\n",
    "df_ml[\"weighted_income\"] = df_ml[\"weighted_income\"]*0.70\n",
    "\n",
    "X_test = df_ml.iloc[:, :-1].values"
   ]
  },
  {
   "cell_type": "code",
   "execution_count": 132,
   "metadata": {},
   "outputs": [
    {
     "name": "stdout",
     "output_type": "stream",
     "text": [
      "[40.222643   45.69765964 43.26431891 59.08103364 49.34767073 51.17267627\n",
      " 74.89774836 59.68936882 57.25602809 57.25602809 43.87265409 62.12270955\n",
      " 38.97920071 57.6588902  59.15326536 40.47357587 49.43982682 64.38357841\n",
      " 73.34982936 45.70388893 54.67013988 74.84420452 44.20951377 53.17576472]\n"
     ]
    }
   ],
   "source": [
    "# Make predictions using the testing set\n",
    "regr_predict = lm.predict(X_test)\n",
    "\n",
    "print(regr_predict)"
   ]
  },
  {
   "cell_type": "markdown",
   "metadata": {},
   "source": [
    "### Prévisions pour l'année prochaine"
   ]
  },
  {
   "cell_type": "code",
   "execution_count": 133,
   "metadata": {},
   "outputs": [
    {
     "name": "stderr",
     "output_type": "stream",
     "text": [
      "<ipython-input-133-6b557f7fdeaa>:1: SettingWithCopyWarning: \n",
      "A value is trying to be set on a copy of a slice from a DataFrame.\n",
      "Try using .loc[row_indexer,col_indexer] = value instead\n",
      "\n",
      "See the caveats in the documentation: https://pandas.pydata.org/pandas-docs/stable/user_guide/indexing.html#returning-a-view-versus-a-copy\n",
      "  df_ml[\"pred\"] = regr_predict.astype(int)\n"
     ]
    },
    {
     "data": {
      "text/html": [
       "<div>\n",
       "<style scoped>\n",
       "    .dataframe tbody tr th:only-of-type {\n",
       "        vertical-align: middle;\n",
       "    }\n",
       "\n",
       "    .dataframe tbody tr th {\n",
       "        vertical-align: top;\n",
       "    }\n",
       "\n",
       "    .dataframe thead th {\n",
       "        text-align: right;\n",
       "    }\n",
       "</style>\n",
       "<table border=\"1\" class=\"dataframe\">\n",
       "  <thead>\n",
       "    <tr style=\"text-align: right;\">\n",
       "      <th></th>\n",
       "      <th>weighted_income</th>\n",
       "      <th>Marchés</th>\n",
       "      <th>pred</th>\n",
       "    </tr>\n",
       "  </thead>\n",
       "  <tbody>\n",
       "    <tr>\n",
       "      <th>0</th>\n",
       "      <td>2.242641e+08</td>\n",
       "      <td>61</td>\n",
       "      <td>40</td>\n",
       "    </tr>\n",
       "    <tr>\n",
       "      <th>1</th>\n",
       "      <td>2.573523e+08</td>\n",
       "      <td>70</td>\n",
       "      <td>45</td>\n",
       "    </tr>\n",
       "    <tr>\n",
       "      <th>2</th>\n",
       "      <td>2.426464e+08</td>\n",
       "      <td>66</td>\n",
       "      <td>43</td>\n",
       "    </tr>\n",
       "    <tr>\n",
       "      <th>3</th>\n",
       "      <td>3.382344e+08</td>\n",
       "      <td>92</td>\n",
       "      <td>59</td>\n",
       "    </tr>\n",
       "    <tr>\n",
       "      <th>4</th>\n",
       "      <td>2.794111e+08</td>\n",
       "      <td>76</td>\n",
       "      <td>49</td>\n",
       "    </tr>\n",
       "    <tr>\n",
       "      <th>5</th>\n",
       "      <td>2.904404e+08</td>\n",
       "      <td>79</td>\n",
       "      <td>51</td>\n",
       "    </tr>\n",
       "    <tr>\n",
       "      <th>6</th>\n",
       "      <td>4.338224e+08</td>\n",
       "      <td>118</td>\n",
       "      <td>74</td>\n",
       "    </tr>\n",
       "    <tr>\n",
       "      <th>7</th>\n",
       "      <td>3.419109e+08</td>\n",
       "      <td>93</td>\n",
       "      <td>59</td>\n",
       "    </tr>\n",
       "    <tr>\n",
       "      <th>8</th>\n",
       "      <td>3.272050e+08</td>\n",
       "      <td>89</td>\n",
       "      <td>57</td>\n",
       "    </tr>\n",
       "    <tr>\n",
       "      <th>9</th>\n",
       "      <td>3.272050e+08</td>\n",
       "      <td>89</td>\n",
       "      <td>57</td>\n",
       "    </tr>\n",
       "    <tr>\n",
       "      <th>10</th>\n",
       "      <td>2.463229e+08</td>\n",
       "      <td>67</td>\n",
       "      <td>43</td>\n",
       "    </tr>\n",
       "    <tr>\n",
       "      <th>11</th>\n",
       "      <td>3.566167e+08</td>\n",
       "      <td>97</td>\n",
       "      <td>62</td>\n",
       "    </tr>\n",
       "    <tr>\n",
       "      <th>12</th>\n",
       "      <td>2.167494e+08</td>\n",
       "      <td>48</td>\n",
       "      <td>38</td>\n",
       "    </tr>\n",
       "    <tr>\n",
       "      <th>13</th>\n",
       "      <td>3.296397e+08</td>\n",
       "      <td>73</td>\n",
       "      <td>57</td>\n",
       "    </tr>\n",
       "    <tr>\n",
       "      <th>14</th>\n",
       "      <td>3.386710e+08</td>\n",
       "      <td>75</td>\n",
       "      <td>59</td>\n",
       "    </tr>\n",
       "    <tr>\n",
       "      <th>15</th>\n",
       "      <td>2.257806e+08</td>\n",
       "      <td>50</td>\n",
       "      <td>40</td>\n",
       "    </tr>\n",
       "    <tr>\n",
       "      <th>16</th>\n",
       "      <td>2.799680e+08</td>\n",
       "      <td>62</td>\n",
       "      <td>49</td>\n",
       "    </tr>\n",
       "    <tr>\n",
       "      <th>17</th>\n",
       "      <td>3.702803e+08</td>\n",
       "      <td>82</td>\n",
       "      <td>64</td>\n",
       "    </tr>\n",
       "    <tr>\n",
       "      <th>18</th>\n",
       "      <td>4.244676e+08</td>\n",
       "      <td>94</td>\n",
       "      <td>73</td>\n",
       "    </tr>\n",
       "    <tr>\n",
       "      <th>19</th>\n",
       "      <td>2.573899e+08</td>\n",
       "      <td>57</td>\n",
       "      <td>45</td>\n",
       "    </tr>\n",
       "    <tr>\n",
       "      <th>20</th>\n",
       "      <td>3.115773e+08</td>\n",
       "      <td>69</td>\n",
       "      <td>54</td>\n",
       "    </tr>\n",
       "    <tr>\n",
       "      <th>21</th>\n",
       "      <td>4.334988e+08</td>\n",
       "      <td>96</td>\n",
       "      <td>74</td>\n",
       "    </tr>\n",
       "    <tr>\n",
       "      <th>22</th>\n",
       "      <td>2.483587e+08</td>\n",
       "      <td>55</td>\n",
       "      <td>44</td>\n",
       "    </tr>\n",
       "    <tr>\n",
       "      <th>23</th>\n",
       "      <td>3.025461e+08</td>\n",
       "      <td>67</td>\n",
       "      <td>53</td>\n",
       "    </tr>\n",
       "  </tbody>\n",
       "</table>\n",
       "</div>"
      ],
      "text/plain": [
       "    weighted_income  Marchés  pred\n",
       "0      2.242641e+08       61    40\n",
       "1      2.573523e+08       70    45\n",
       "2      2.426464e+08       66    43\n",
       "3      3.382344e+08       92    59\n",
       "4      2.794111e+08       76    49\n",
       "5      2.904404e+08       79    51\n",
       "6      4.338224e+08      118    74\n",
       "7      3.419109e+08       93    59\n",
       "8      3.272050e+08       89    57\n",
       "9      3.272050e+08       89    57\n",
       "10     2.463229e+08       67    43\n",
       "11     3.566167e+08       97    62\n",
       "12     2.167494e+08       48    38\n",
       "13     3.296397e+08       73    57\n",
       "14     3.386710e+08       75    59\n",
       "15     2.257806e+08       50    40\n",
       "16     2.799680e+08       62    49\n",
       "17     3.702803e+08       82    64\n",
       "18     4.244676e+08       94    73\n",
       "19     2.573899e+08       57    45\n",
       "20     3.115773e+08       69    54\n",
       "21     4.334988e+08       96    74\n",
       "22     2.483587e+08       55    44\n",
       "23     3.025461e+08       67    53"
      ]
     },
     "execution_count": 133,
     "metadata": {},
     "output_type": "execute_result"
    }
   ],
   "source": [
    "df_ml[\"pred\"] = regr_predict.astype(int)\n",
    "\n",
    "df_ml[[\"weighted_income\",\"Marchés\",\"pred\"]]"
   ]
  },
  {
   "cell_type": "code",
   "execution_count": 134,
   "metadata": {},
   "outputs": [
    {
     "data": {
      "text/html": [
       "\n",
       "<div id=\"altair-viz-6e5d2061380f4a30b7a4e8e7edf01ea2\"></div>\n",
       "<script type=\"text/javascript\">\n",
       "  (function(spec, embedOpt){\n",
       "    let outputDiv = document.currentScript.previousElementSibling;\n",
       "    if (outputDiv.id !== \"altair-viz-6e5d2061380f4a30b7a4e8e7edf01ea2\") {\n",
       "      outputDiv = document.getElementById(\"altair-viz-6e5d2061380f4a30b7a4e8e7edf01ea2\");\n",
       "    }\n",
       "    const paths = {\n",
       "      \"vega\": \"https://cdn.jsdelivr.net/npm//vega@5?noext\",\n",
       "      \"vega-lib\": \"https://cdn.jsdelivr.net/npm//vega-lib?noext\",\n",
       "      \"vega-lite\": \"https://cdn.jsdelivr.net/npm//vega-lite@4.8.1?noext\",\n",
       "      \"vega-embed\": \"https://cdn.jsdelivr.net/npm//vega-embed@6?noext\",\n",
       "    };\n",
       "\n",
       "    function loadScript(lib) {\n",
       "      return new Promise(function(resolve, reject) {\n",
       "        var s = document.createElement('script');\n",
       "        s.src = paths[lib];\n",
       "        s.async = true;\n",
       "        s.onload = () => resolve(paths[lib]);\n",
       "        s.onerror = () => reject(`Error loading script: ${paths[lib]}`);\n",
       "        document.getElementsByTagName(\"head\")[0].appendChild(s);\n",
       "      });\n",
       "    }\n",
       "\n",
       "    function showError(err) {\n",
       "      outputDiv.innerHTML = `<div class=\"error\" style=\"color:red;\">${err}</div>`;\n",
       "      throw err;\n",
       "    }\n",
       "\n",
       "    function displayChart(vegaEmbed) {\n",
       "      vegaEmbed(outputDiv, spec, embedOpt)\n",
       "        .catch(err => showError(`Javascript Error: ${err.message}<br>This usually means there's a typo in your chart specification. See the javascript console for the full traceback.`));\n",
       "    }\n",
       "\n",
       "    if(typeof define === \"function\" && define.amd) {\n",
       "      requirejs.config({paths});\n",
       "      require([\"vega-embed\"], displayChart, err => showError(`Error loading script: ${err.message}`));\n",
       "    } else if (typeof vegaEmbed === \"function\") {\n",
       "      displayChart(vegaEmbed);\n",
       "    } else {\n",
       "      loadScript(\"vega\")\n",
       "        .then(() => loadScript(\"vega-lite\"))\n",
       "        .then(() => loadScript(\"vega-embed\"))\n",
       "        .catch(showError)\n",
       "        .then(() => displayChart(vegaEmbed));\n",
       "    }\n",
       "  })({\"config\": {\"view\": {\"continuousWidth\": 400, \"continuousHeight\": 300}}, \"layer\": [{\"mark\": {\"type\": \"line\", \"color\": \"#57A44C\", \"opacity\": 0.3}, \"encoding\": {\"x\": {\"type\": \"quantitative\", \"axis\": {\"title\": \"Valeur du secteur ($)\"}, \"field\": \"weighted_income\"}, \"y\": {\"type\": \"quantitative\", \"axis\": {\"title\": \"March\\u00e9s 2019\", \"titleColor\": \"#5276A7\"}, \"field\": \"March\\u00e9s\"}}, \"height\": 400, \"selection\": {\"selector008\": {\"type\": \"interval\", \"bind\": \"scales\", \"encodings\": [\"x\", \"y\"]}}, \"title\": \"Pr\\u00e9diction du volume des AO par rapport au CF attendu issu du commerce ext\\u00e9rieur\", \"width\": 700}, {\"mark\": {\"type\": \"line\", \"interpolate\": \"monotone\", \"stroke\": \"#5276A7\"}, \"encoding\": {\"x\": {\"type\": \"quantitative\", \"axis\": {\"title\": \"Valeur du secteur ($)\"}, \"field\": \"weighted_income\"}, \"y\": {\"type\": \"quantitative\", \"axis\": {\"title\": \"Pr\\u00e9diction des march\\u00e9s attendus\", \"titleColor\": \"#5276A7\"}, \"field\": \"pred\"}}, \"height\": 400, \"title\": \"Pr\\u00e9diction du volume des AO par rapport au CF attendu issu du commerce ext\\u00e9rieur\", \"width\": 700}], \"data\": {\"name\": \"data-b1f8ad86a67903f52488f752bf8d31df\"}, \"encoding\": {}, \"$schema\": \"https://vega.github.io/schema/vega-lite/v4.8.1.json\", \"datasets\": {\"data-b1f8ad86a67903f52488f752bf8d31df\": [{\"weighted_income\": 224264132.58816448, \"March\\u00e9s\": 61, \"pred\": 40}, {\"weighted_income\": 257352283.29789367, \"March\\u00e9s\": 70, \"pred\": 45}, {\"weighted_income\": 242646438.53801402, \"March\\u00e9s\": 66, \"pred\": 43}, {\"weighted_income\": 338234429.4772317, \"March\\u00e9s\": 92, \"pred\": 59}, {\"weighted_income\": 279411050.4377131, \"March\\u00e9s\": 76, \"pred\": 49}, {\"weighted_income\": 290440434.0076229, \"March\\u00e9s\": 79, \"pred\": 51}, {\"weighted_income\": 433822420.4164493, \"March\\u00e9s\": 118, \"pred\": 74}, {\"weighted_income\": 341910890.6672016, \"March\\u00e9s\": 93, \"pred\": 59}, {\"weighted_income\": 327205045.90732193, \"March\\u00e9s\": 89, \"pred\": 57}, {\"weighted_income\": 327205045.90732193, \"March\\u00e9s\": 89, \"pred\": 57}, {\"weighted_income\": 246322899.72798395, \"March\\u00e9s\": 67, \"pred\": 43}, {\"weighted_income\": 356616735.4270812, \"March\\u00e9s\": 97, \"pred\": 62}, {\"weighted_income\": 216749414.64927536, \"March\\u00e9s\": 48, \"pred\": 38}, {\"weighted_income\": 329639734.77910626, \"March\\u00e9s\": 73, \"pred\": 57}, {\"weighted_income\": 338670960.38949275, \"March\\u00e9s\": 75, \"pred\": 59}, {\"weighted_income\": 225780640.25966182, \"March\\u00e9s\": 50, \"pred\": 40}, {\"weighted_income\": 279967993.9219807, \"March\\u00e9s\": 62, \"pred\": 49}, {\"weighted_income\": 370280250.02584535, \"March\\u00e9s\": 82, \"pred\": 64}, {\"weighted_income\": 424467603.68816423, \"March\\u00e9s\": 94, \"pred\": 73}, {\"weighted_income\": 257389929.89601445, \"March\\u00e9s\": 57, \"pred\": 45}, {\"weighted_income\": 311577283.5583333, \"March\\u00e9s\": 69, \"pred\": 54}, {\"weighted_income\": 433498829.2985507, \"March\\u00e9s\": 96, \"pred\": 74}, {\"weighted_income\": 248358704.28562802, \"March\\u00e9s\": 55, \"pred\": 44}, {\"weighted_income\": 302546057.94794685, \"March\\u00e9s\": 67, \"pred\": 53}]}}, {\"mode\": \"vega-lite\"});\n",
       "</script>"
      ],
      "text/plain": [
       "alt.LayerChart(...)"
      ]
     },
     "execution_count": 134,
     "metadata": {},
     "output_type": "execute_result"
    }
   ],
   "source": [
    "base = alt.Chart(df_ml).encode(\n",
    "    alt.X('weighted_income', axis=alt.Axis(title=\"Valeur du secteur ($)\"))).properties(\n",
    "    title= \"Prédiction du volume des AO par rapport au CF attendu issu du commerce extérieur\",\n",
    "    width=700,\n",
    "    height=400\n",
    ")\n",
    "    \n",
    "\n",
    "line_1 = base.mark_line(opacity=0.3, color='#57A44C').encode(\n",
    "    alt.Y('Marchés',\n",
    "          axis=alt.Axis(title='Marchés 2019', titleColor='#5276A7'))\n",
    ")\n",
    "\n",
    "line_2 = base.mark_line(stroke='#5276A7', interpolate='monotone').encode(\n",
    "    alt.Y('pred',\n",
    "          axis=alt.Axis(title='Prédiction des marchés attendus', titleColor='#5276A7'))\n",
    ")\n",
    "\n",
    "alt.layer(line_1, line_2).encode().interactive()"
   ]
  },
  {
   "cell_type": "markdown",
   "metadata": {},
   "source": [
    "Si nous voulons connaître la probabilité de succès de notre modèlenous pouvons diviser notre échantillon de données et utiliser les metrics de sklearn."
   ]
  },
  {
   "cell_type": "code",
   "execution_count": 144,
   "metadata": {},
   "outputs": [],
   "source": [
    "from sklearn.model_selection import train_test_split\n",
    "X_train, X_test, y_train, y_test = train_test_split(X, y, test_size=0.4, random_state=0)"
   ]
  },
  {
   "cell_type": "code",
   "execution_count": 145,
   "metadata": {},
   "outputs": [],
   "source": [
    "# modele\n",
    "lm = LinearRegression()\n",
    "regr = lm.fit(X_train, y_train)\n",
    "\n",
    "# predictions\n",
    "regr_predict = lm.predict(X_test).astype(int)"
   ]
  },
  {
   "cell_type": "code",
   "execution_count": 146,
   "metadata": {},
   "outputs": [
    {
     "name": "stdout",
     "output_type": "stream",
     "text": [
      " R2 score : \n",
      " 0.5539871944121071 \n",
      " \n",
      " Mean absolute percentage error : \n",
      " 0.10818460715163632 \n",
      " \n",
      " Variance score : \n",
      " 0.5924767171129219\n"
     ]
    }
   ],
   "source": [
    "from sklearn.metrics import r2_score, mean_absolute_percentage_error, explained_variance_score\n",
    "\n",
    "print(' R2 score : \\n', r2_score(y_test, regr_predict),'\\n','\\n', \n",
    "      'Mean absolute percentage error : \\n', mean_absolute_percentage_error(y_test, regr_predict),'\\n','\\n', \n",
    "      'Variance score : \\n', explained_variance_score(y_test, regr_predict)\n",
    "     )"
   ]
  },
  {
   "cell_type": "markdown",
   "metadata": {},
   "source": [
    "Le R-carré est une mesure statistique de la proximité des données par rapport à la ligne de régression ajustée. Il est également connu sous le nom de coefficient de détermination. Il s'agit du pourcentage de la variation de la variable de réponse qui est expliqué par un modèle linéaire :\n",
    "\n",
    "- R-carré = Variation expliquée / Variation totale\n",
    "\n",
    "Le R-carré est toujours compris entre 0 et 100 % :\n",
    "\n",
    "- 0% indique que le modèle n'explique aucunement la variabilité des données de réponse autour de sa moyenne.\n",
    "- 100% indique que le modèle explique toute la variabilité des données de réponse autour de sa moyenne."
   ]
  },
  {
   "cell_type": "markdown",
   "metadata": {},
   "source": [
    "### Méthode de prédiction : ARIMA\n",
    "\n",
    "Une alternative (en l'absence de données préalables suffisantes relatives aux variables explicatives) est la prédiction basée sur une stratégie autorégressive comme le modèle ARIMA (autoregressive integrated moving average). Cette technique est implémentée notamment pour les prévisions des séries temporelles car des éléments tels qu’une possible saisonnalité y sont pris en compte, et le résultat est une extrapolation de l'avenir en fonction des éléments passés."
   ]
  },
  {
   "cell_type": "code",
   "execution_count": 135,
   "metadata": {},
   "outputs": [
    {
     "data": {
      "text/html": [
       "<div>\n",
       "<style scoped>\n",
       "    .dataframe tbody tr th:only-of-type {\n",
       "        vertical-align: middle;\n",
       "    }\n",
       "\n",
       "    .dataframe tbody tr th {\n",
       "        vertical-align: top;\n",
       "    }\n",
       "\n",
       "    .dataframe thead th {\n",
       "        text-align: right;\n",
       "    }\n",
       "</style>\n",
       "<table border=\"1\" class=\"dataframe\">\n",
       "  <thead>\n",
       "    <tr style=\"text-align: right;\">\n",
       "      <th></th>\n",
       "      <th>Date</th>\n",
       "      <th>Marchés</th>\n",
       "      <th>year</th>\n",
       "      <th>month</th>\n",
       "      <th>ad_percent</th>\n",
       "    </tr>\n",
       "  </thead>\n",
       "  <tbody>\n",
       "    <tr>\n",
       "      <th>0</th>\n",
       "      <td>2017-01-01</td>\n",
       "      <td>61</td>\n",
       "      <td>2017</td>\n",
       "      <td>1</td>\n",
       "      <td>0.061184</td>\n",
       "    </tr>\n",
       "    <tr>\n",
       "      <th>1</th>\n",
       "      <td>2017-02-01</td>\n",
       "      <td>70</td>\n",
       "      <td>2017</td>\n",
       "      <td>2</td>\n",
       "      <td>0.070211</td>\n",
       "    </tr>\n",
       "    <tr>\n",
       "      <th>2</th>\n",
       "      <td>2017-03-01</td>\n",
       "      <td>66</td>\n",
       "      <td>2017</td>\n",
       "      <td>3</td>\n",
       "      <td>0.066199</td>\n",
       "    </tr>\n",
       "    <tr>\n",
       "      <th>3</th>\n",
       "      <td>2017-04-01</td>\n",
       "      <td>92</td>\n",
       "      <td>2017</td>\n",
       "      <td>4</td>\n",
       "      <td>0.092277</td>\n",
       "    </tr>\n",
       "    <tr>\n",
       "      <th>4</th>\n",
       "      <td>2017-05-01</td>\n",
       "      <td>76</td>\n",
       "      <td>2017</td>\n",
       "      <td>5</td>\n",
       "      <td>0.076229</td>\n",
       "    </tr>\n",
       "  </tbody>\n",
       "</table>\n",
       "</div>"
      ],
      "text/plain": [
       "        Date  Marchés  year  month  ad_percent\n",
       "0 2017-01-01       61  2017      1    0.061184\n",
       "1 2017-02-01       70  2017      2    0.070211\n",
       "2 2017-03-01       66  2017      3    0.066199\n",
       "3 2017-04-01       92  2017      4    0.092277\n",
       "4 2017-05-01       76  2017      5    0.076229"
      ]
     },
     "execution_count": 135,
     "metadata": {},
     "output_type": "execute_result"
    }
   ],
   "source": [
    "# données non croisées\n",
    "df_j360.head()"
   ]
  },
  {
   "cell_type": "code",
   "execution_count": 136,
   "metadata": {},
   "outputs": [],
   "source": [
    "#ARIMA\n",
    "import pmdarima as pm\n",
    "from pmdarima.model_selection import train_test_split\n",
    "\n",
    "# statsmodels\n",
    "import statsmodels.api as sm\n",
    "import statsmodels.graphics.api as smg\n",
    "\n",
    "import matplotlib.pyplot as plt\n",
    "import plotly.express as px # https://plotly.com/python/time-series/\n",
    "%matplotlib inline\n",
    "plt.style.use('fivethirtyeight')"
   ]
  },
  {
   "cell_type": "markdown",
   "metadata": {},
   "source": [
    "#### Prétraitement du dataframe pour la prédiction"
   ]
  },
  {
   "cell_type": "code",
   "execution_count": 137,
   "metadata": {},
   "outputs": [
    {
     "data": {
      "text/plain": [
       "Date\n",
       "2017-01-01    61\n",
       "2017-02-01    70\n",
       "2017-03-01    66\n",
       "2017-04-01    92\n",
       "2017-05-01    76\n",
       "Name: Marchés, dtype: int64"
      ]
     },
     "execution_count": 137,
     "metadata": {},
     "output_type": "execute_result"
    }
   ],
   "source": [
    "# data as index\n",
    "df_ari = df_j360\n",
    "df_ari.index = df_ari['Date']\n",
    "df_ari = df_ari['Marchés']\n",
    "df_ari.head()"
   ]
  },
  {
   "cell_type": "code",
   "execution_count": 138,
   "metadata": {},
   "outputs": [
    {
     "name": "stderr",
     "output_type": "stream",
     "text": [
      "/usr/local/lib/python3.8/site-packages/statsmodels/tsa/base/tsa_model.py:524: ValueWarning: No frequency information was provided, so inferred frequency MS will be used.\n",
      "  warnings.warn('No frequency information was'\n",
      "/usr/local/lib/python3.8/site-packages/statsmodels/tsa/base/tsa_model.py:524: ValueWarning: No frequency information was provided, so inferred frequency MS will be used.\n",
      "  warnings.warn('No frequency information was'\n"
     ]
    },
    {
     "name": "stdout",
     "output_type": "stream",
     "text": [
      "                               SARIMAX Results                                \n",
      "==============================================================================\n",
      "Dep. Variable:                Marchés   No. Observations:                   36\n",
      "Model:               SARIMAX(1, 0, 0)   Log Likelihood                -152.411\n",
      "Date:                Thu, 17 Jun 2021   AIC                            310.823\n",
      "Time:                        08:56:52   BIC                            315.573\n",
      "Sample:                    01-01-2017   HQIC                           312.481\n",
      "                         - 12-01-2019                                         \n",
      "Covariance Type:                  opg                                         \n",
      "==============================================================================\n",
      "                 coef    std err          z      P>|z|      [0.025      0.975]\n",
      "------------------------------------------------------------------------------\n",
      "intercept     58.0502     16.157      3.593      0.000      26.384      89.717\n",
      "ar.L1          0.1810      0.204      0.888      0.375      -0.219       0.581\n",
      "sigma2       278.2496     68.131      4.084      0.000     144.715     411.785\n",
      "===================================================================================\n",
      "Ljung-Box (L1) (Q):                   0.03   Jarque-Bera (JB):                 0.75\n",
      "Prob(Q):                              0.87   Prob(JB):                         0.69\n",
      "Heteroskedasticity (H):               0.63   Skew:                             0.35\n",
      "Prob(H) (two-sided):                  0.44   Kurtosis:                         3.03\n",
      "===================================================================================\n",
      "\n",
      "Warnings:\n",
      "[1] Covariance matrix calculated using the outer product of gradients (complex-step).\n"
     ]
    },
    {
     "data": {
      "image/png": "[encoded data removed]",
      "text/plain": [
       "<Figure size 1080x864 with 4 Axes>"
      ]
     },
     "metadata": {},
     "output_type": "display_data"
    }
   ],
   "source": [
    "# modélisation et entrainement\n",
    "mod = sm.tsa.statespace.SARIMAX(df_ari,trend='c', order=(1,0,0)) # (p,d,q) pour un modèle ARIMA non saisonnier\n",
    "\n",
    "results = mod.fit(disp=False)\n",
    "\n",
    "# # Résultats statistiques du calcul\n",
    "print(results.summary())\n",
    "results.plot_diagnostics(figsize=(15, 12))\n",
    "plt.show()"
   ]
  },
  {
   "cell_type": "code",
   "execution_count": 139,
   "metadata": {},
   "outputs": [
    {
     "name": "stdout",
     "output_type": "stream",
     "text": [
      "2020-01-01    66.739735\n",
      "2020-02-01    70.132218\n",
      "2020-03-01    70.746365\n",
      "Freq: MS, Name: predicted_mean, dtype: float64\n"
     ]
    }
   ],
   "source": [
    "## Voir les résultats des prévisions\n",
    "print(results.forecast(steps=3))"
   ]
  },
  {
   "cell_type": "code",
   "execution_count": 140,
   "metadata": {},
   "outputs": [
    {
     "data": {
      "text/plain": [
       "Timestamp('2019-02-01 00:00:00')"
      ]
     },
     "execution_count": 140,
     "metadata": {},
     "output_type": "execute_result"
    }
   ],
   "source": [
    "# Définir la date de début du calcul de la tendance\n",
    "tail = df_ari.shape[0]\n",
    "star_forcasct = int(0.7 * tail)\n",
    "\n",
    "star_date = df_ari.index[star_forcasct]\n",
    "star_date"
   ]
  },
  {
   "cell_type": "code",
   "execution_count": 141,
   "metadata": {},
   "outputs": [],
   "source": [
    "# prediction\n",
    "pred = results.get_prediction(start= star_date, dynamic=False)\n",
    "pred_ci = pred.conf_int()"
   ]
  },
  {
   "cell_type": "code",
   "execution_count": 142,
   "metadata": {},
   "outputs": [
    {
     "data": {
      "image/png": "[encoded data removed]",
      "text/plain": [
       "<Figure size 720x576 with 1 Axes>"
      ]
     },
     "metadata": {},
     "output_type": "display_data"
    }
   ],
   "source": [
    "# graph\n",
    "ax = df_ari.plot(label='observed',figsize=(10, 8))\n",
    "pred.predicted_mean.plot(ax=ax, label='One-step ahead Forecast', alpha=.7)\n",
    "\n",
    "ax.fill_between(pred_ci.index,\n",
    "                pred_ci.iloc[:, 0],\n",
    "                pred_ci.iloc[:, 1], color='k', alpha=.2)\n",
    "\n",
    "ax.set_xlabel('Date')\n",
    "ax.set_ylabel('Volume des marches')\n",
    "plt.title(\"Evolution du volume des marchés publiés\")\n",
    "plt.legend()\n",
    "\n",
    "plt.show()"
   ]
  },
  {
   "cell_type": "markdown",
   "metadata": {},
   "source": [
    "#### ARIMA - visualisation type 2"
   ]
  },
  {
   "cell_type": "code",
   "execution_count": 143,
   "metadata": {},
   "outputs": [
    {
     "data": {
      "text/plain": [
       "<matplotlib.legend.Legend at 0x7f0d490a1850>"
      ]
     },
     "execution_count": 143,
     "metadata": {},
     "output_type": "execute_result"
    },
    {
     "data": {
      "image/png": "[encoded data removed]",
      "text/plain": [
       "<Figure size 1080x360 with 1 Axes>"
      ]
     },
     "metadata": {},
     "output_type": "display_data"
    }
   ],
   "source": [
    "forecast = list(results.forecast(steps=6).keys())[5]\n",
    "\n",
    "fig, ax = plt.subplots(figsize=(15, 5))\n",
    "\n",
    "# Plot the data (here we are subsetting it to get a better look at the forecasts)\n",
    "df_ari.plot(ax=ax)\n",
    "\n",
    "# Construct the forecasts\n",
    "fcast = results.get_forecast(forecast).summary_frame()\n",
    "fcast['mean'].plot(ax=ax, style='k--')\n",
    "ax.fill_between(fcast.index, fcast['mean_ci_lower'], fcast['mean_ci_upper'], color='k', alpha=0.1)\n",
    "\n",
    "ax.set_xlabel('Date')\n",
    "ax.set_ylabel('Volume des marches')\n",
    "plt.title('Evolution du volume des marchés publiés')\n",
    "plt.legend()"
   ]
  },
  {
   "cell_type": "markdown",
   "metadata": {},
   "source": [
    "# ARIMA avec Altair\n",
    "\n",
    "### Concatenation ES + ARIMA"
   ]
  },
  {
   "cell_type": "code",
   "execution_count": 148,
   "metadata": {},
   "outputs": [
    {
     "name": "stdout",
     "output_type": "stream",
     "text": [
      "(6, 4)\n"
     ]
    },
    {
     "data": {
      "text/html": [
       "<div>\n",
       "<style scoped>\n",
       "    .dataframe tbody tr th:only-of-type {\n",
       "        vertical-align: middle;\n",
       "    }\n",
       "\n",
       "    .dataframe tbody tr th {\n",
       "        vertical-align: top;\n",
       "    }\n",
       "\n",
       "    .dataframe thead th {\n",
       "        text-align: right;\n",
       "    }\n",
       "</style>\n",
       "<table border=\"1\" class=\"dataframe\">\n",
       "  <thead>\n",
       "    <tr style=\"text-align: right;\">\n",
       "      <th>Marchés</th>\n",
       "      <th>mean</th>\n",
       "      <th>mean_se</th>\n",
       "      <th>mean_ci_lower</th>\n",
       "      <th>mean_ci_upper</th>\n",
       "    </tr>\n",
       "  </thead>\n",
       "  <tbody>\n",
       "    <tr>\n",
       "      <th>2020-01-01</th>\n",
       "      <td>66.739735</td>\n",
       "      <td>16.680814</td>\n",
       "      <td>34.045940</td>\n",
       "      <td>99.433530</td>\n",
       "    </tr>\n",
       "    <tr>\n",
       "      <th>2020-02-01</th>\n",
       "      <td>70.132218</td>\n",
       "      <td>16.951946</td>\n",
       "      <td>36.907015</td>\n",
       "      <td>103.357422</td>\n",
       "    </tr>\n",
       "    <tr>\n",
       "      <th>2020-03-01</th>\n",
       "      <td>70.746365</td>\n",
       "      <td>16.960758</td>\n",
       "      <td>37.503889</td>\n",
       "      <td>103.988840</td>\n",
       "    </tr>\n",
       "    <tr>\n",
       "      <th>2020-04-01</th>\n",
       "      <td>70.857545</td>\n",
       "      <td>16.961047</td>\n",
       "      <td>37.614503</td>\n",
       "      <td>104.100586</td>\n",
       "    </tr>\n",
       "    <tr>\n",
       "      <th>2020-05-01</th>\n",
       "      <td>70.877672</td>\n",
       "      <td>16.961057</td>\n",
       "      <td>37.634612</td>\n",
       "      <td>104.120731</td>\n",
       "    </tr>\n",
       "  </tbody>\n",
       "</table>\n",
       "</div>"
      ],
      "text/plain": [
       "Marchés          mean    mean_se  mean_ci_lower  mean_ci_upper\n",
       "2020-01-01  66.739735  16.680814      34.045940      99.433530\n",
       "2020-02-01  70.132218  16.951946      36.907015     103.357422\n",
       "2020-03-01  70.746365  16.960758      37.503889     103.988840\n",
       "2020-04-01  70.857545  16.961047      37.614503     104.100586\n",
       "2020-05-01  70.877672  16.961057      37.634612     104.120731"
      ]
     },
     "execution_count": 148,
     "metadata": {},
     "output_type": "execute_result"
    }
   ],
   "source": [
    "# Résultats du Machine learning\n",
    "\n",
    "print(fcast.shape)\n",
    "fcast.head()"
   ]
  },
  {
   "cell_type": "code",
   "execution_count": 150,
   "metadata": {},
   "outputs": [
    {
     "data": {
      "text/html": [
       "<div>\n",
       "<style scoped>\n",
       "    .dataframe tbody tr th:only-of-type {\n",
       "        vertical-align: middle;\n",
       "    }\n",
       "\n",
       "    .dataframe tbody tr th {\n",
       "        vertical-align: top;\n",
       "    }\n",
       "\n",
       "    .dataframe thead th {\n",
       "        text-align: right;\n",
       "    }\n",
       "</style>\n",
       "<table border=\"1\" class=\"dataframe\">\n",
       "  <thead>\n",
       "    <tr style=\"text-align: right;\">\n",
       "      <th>Marchés</th>\n",
       "      <th>Date</th>\n",
       "      <th>Marchés</th>\n",
       "    </tr>\n",
       "  </thead>\n",
       "  <tbody>\n",
       "    <tr>\n",
       "      <th>0</th>\n",
       "      <td>2020-01-01</td>\n",
       "      <td>66.739735</td>\n",
       "    </tr>\n",
       "    <tr>\n",
       "      <th>1</th>\n",
       "      <td>2020-02-01</td>\n",
       "      <td>70.132218</td>\n",
       "    </tr>\n",
       "    <tr>\n",
       "      <th>2</th>\n",
       "      <td>2020-03-01</td>\n",
       "      <td>70.746365</td>\n",
       "    </tr>\n",
       "    <tr>\n",
       "      <th>3</th>\n",
       "      <td>2020-04-01</td>\n",
       "      <td>70.857545</td>\n",
       "    </tr>\n",
       "    <tr>\n",
       "      <th>4</th>\n",
       "      <td>2020-05-01</td>\n",
       "      <td>70.877672</td>\n",
       "    </tr>\n",
       "  </tbody>\n",
       "</table>\n",
       "</div>"
      ],
      "text/plain": [
       "Marchés       Date    Marchés\n",
       "0       2020-01-01  66.739735\n",
       "1       2020-02-01  70.132218\n",
       "2       2020-03-01  70.746365\n",
       "3       2020-04-01  70.857545\n",
       "4       2020-05-01  70.877672"
      ]
     },
     "execution_count": 150,
     "metadata": {},
     "output_type": "execute_result"
    }
   ],
   "source": [
    "df_fcast = pd.DataFrame(fcast)\n",
    "\n",
    "df_fcast['Date'] = df_fcast.index\n",
    "\n",
    "df_fcast = df_fcast[[\"Date\", \"mean\"]] \\\n",
    "        .reset_index(drop=True) \\\n",
    "        .rename(columns={'mean': 'Marchés'})\n",
    "\n",
    "df_fcast.head()"
   ]
  },
  {
   "cell_type": "code",
   "execution_count": 153,
   "metadata": {},
   "outputs": [
    {
     "data": {
      "text/html": [
       "\n",
       "<div id=\"altair-viz-df133a927b8040718df36592e652fda5\"></div>\n",
       "<script type=\"text/javascript\">\n",
       "  (function(spec, embedOpt){\n",
       "    let outputDiv = document.currentScript.previousElementSibling;\n",
       "    if (outputDiv.id !== \"altair-viz-df133a927b8040718df36592e652fda5\") {\n",
       "      outputDiv = document.getElementById(\"altair-viz-df133a927b8040718df36592e652fda5\");\n",
       "    }\n",
       "    const paths = {\n",
       "      \"vega\": \"https://cdn.jsdelivr.net/npm//vega@5?noext\",\n",
       "      \"vega-lib\": \"https://cdn.jsdelivr.net/npm//vega-lib?noext\",\n",
       "      \"vega-lite\": \"https://cdn.jsdelivr.net/npm//vega-lite@4.8.1?noext\",\n",
       "      \"vega-embed\": \"https://cdn.jsdelivr.net/npm//vega-embed@6?noext\",\n",
       "    };\n",
       "\n",
       "    function loadScript(lib) {\n",
       "      return new Promise(function(resolve, reject) {\n",
       "        var s = document.createElement('script');\n",
       "        s.src = paths[lib];\n",
       "        s.async = true;\n",
       "        s.onload = () => resolve(paths[lib]);\n",
       "        s.onerror = () => reject(`Error loading script: ${paths[lib]}`);\n",
       "        document.getElementsByTagName(\"head\")[0].appendChild(s);\n",
       "      });\n",
       "    }\n",
       "\n",
       "    function showError(err) {\n",
       "      outputDiv.innerHTML = `<div class=\"error\" style=\"color:red;\">${err}</div>`;\n",
       "      throw err;\n",
       "    }\n",
       "\n",
       "    function displayChart(vegaEmbed) {\n",
       "      vegaEmbed(outputDiv, spec, embedOpt)\n",
       "        .catch(err => showError(`Javascript Error: ${err.message}<br>This usually means there's a typo in your chart specification. See the javascript console for the full traceback.`));\n",
       "    }\n",
       "\n",
       "    if(typeof define === \"function\" && define.amd) {\n",
       "      requirejs.config({paths});\n",
       "      require([\"vega-embed\"], displayChart, err => showError(`Error loading script: ${err.message}`));\n",
       "    } else if (typeof vegaEmbed === \"function\") {\n",
       "      displayChart(vegaEmbed);\n",
       "    } else {\n",
       "      loadScript(\"vega\")\n",
       "        .then(() => loadScript(\"vega-lite\"))\n",
       "        .then(() => loadScript(\"vega-embed\"))\n",
       "        .catch(showError)\n",
       "        .then(() => displayChart(vegaEmbed));\n",
       "    }\n",
       "  })({\"config\": {\"view\": {\"continuousWidth\": 400, \"continuousHeight\": 300}}, \"layer\": [{\"data\": {\"name\": \"data-71966105c85a34bf325c756c2f478efc\"}, \"mark\": {\"type\": \"rect\", \"color\": \"whitesmoke\"}, \"encoding\": {\"x\": {\"type\": \"temporal\", \"field\": \"start\"}, \"x2\": {\"field\": \"end\"}}}, {\"data\": {\"name\": \"data-536afa228f9c17cb659e7cd0c2107eb1\"}, \"mark\": {\"type\": \"line\", \"color\": \"darkblue\", \"point\": {\"filled\": false}}, \"encoding\": {\"x\": {\"type\": \"temporal\", \"axis\": {\"grid\": false, \"title\": \"\"}, \"field\": \"Date\"}, \"y\": {\"type\": \"quantitative\", \"axis\": {\"grid\": false}, \"field\": \"March\\u00e9s\"}}, \"height\": 400, \"title\": \"\", \"width\": 700}, {\"data\": {\"name\": \"data-27018e382973f039bc8b86b0c1e6c93d\"}, \"mark\": {\"type\": \"line\", \"color\": \"cadetblue\", \"opacity\": 0.5}, \"encoding\": {\"x\": {\"type\": \"temporal\", \"axis\": {\"grid\": false, \"title\": \"Pr\\u00e9dictions\"}, \"field\": \"Date\"}, \"y\": {\"type\": \"quantitative\", \"axis\": {\"grid\": false}, \"field\": \"March\\u00e9s\"}}, \"height\": 400, \"title\": \"Volume des appels d'offres\", \"width\": 700}, {\"data\": {\"name\": \"data-27018e382973f039bc8b86b0c1e6c93d\"}, \"mark\": {\"type\": \"line\", \"size\": 2}, \"encoding\": {\"x\": {\"type\": \"temporal\", \"axis\": {\"grid\": false, \"title\": \"Pr\\u00e9dictions\"}, \"field\": \"Date\"}, \"y\": {\"type\": \"quantitative\", \"axis\": {\"grid\": false}, \"field\": \"March\\u00e9s\"}}, \"height\": 400, \"selection\": {\"selector009\": {\"type\": \"interval\", \"bind\": \"scales\", \"encodings\": [\"x\", \"y\"]}}, \"title\": \"Volume des appels d'offres\", \"transform\": [{\"loess\": \"March\\u00e9s\", \"on\": \"Date\"}], \"width\": 700}], \"$schema\": \"https://vega.github.io/schema/vega-lite/v4.8.1.json\", \"datasets\": {\"data-71966105c85a34bf325c756c2f478efc\": [{\"start\": \"2020-01-01T00:00:00\", \"end\": \"2020-06-01T00:00:00\", \"event\": \"Pr\\u00e9dictions\"}], \"data-536afa228f9c17cb659e7cd0c2107eb1\": [{\"Date\": \"2020-01-01T00:00:00\", \"March\\u00e9s\": 66.73973515760933}, {\"Date\": \"2020-02-01T00:00:00\", \"March\\u00e9s\": 70.13221821949926}, {\"Date\": \"2020-03-01T00:00:00\", \"March\\u00e9s\": 70.7463646430434}, {\"Date\": \"2020-04-01T00:00:00\", \"March\\u00e9s\": 70.85754451414995}, {\"Date\": \"2020-05-01T00:00:00\", \"March\\u00e9s\": 70.87767157711961}, {\"Date\": \"2020-06-01T00:00:00\", \"March\\u00e9s\": 70.88131521026789}], \"data-27018e382973f039bc8b86b0c1e6c93d\": [{\"Date\": \"2017-01-01T00:00:00\", \"March\\u00e9s\": 61, \"year\": 2017, \"month\": 1, \"ad_percent\": 0.06118355065195587}, {\"Date\": \"2017-02-01T00:00:00\", \"March\\u00e9s\": 70, \"year\": 2017, \"month\": 2, \"ad_percent\": 0.07021063189568706}, {\"Date\": \"2017-03-01T00:00:00\", \"March\\u00e9s\": 66, \"year\": 2017, \"month\": 3, \"ad_percent\": 0.06619859578736209}, {\"Date\": \"2017-04-01T00:00:00\", \"March\\u00e9s\": 92, \"year\": 2017, \"month\": 4, \"ad_percent\": 0.09227683049147442}, {\"Date\": \"2017-05-01T00:00:00\", \"March\\u00e9s\": 76, \"year\": 2017, \"month\": 5, \"ad_percent\": 0.07622868605817452}, {\"Date\": \"2017-06-01T00:00:00\", \"March\\u00e9s\": 79, \"year\": 2017, \"month\": 6, \"ad_percent\": 0.07923771313941826}, {\"Date\": \"2017-07-01T00:00:00\", \"March\\u00e9s\": 118, \"year\": 2017, \"month\": 7, \"ad_percent\": 0.11835506519558676}, {\"Date\": \"2017-08-01T00:00:00\", \"March\\u00e9s\": 93, \"year\": 2017, \"month\": 8, \"ad_percent\": 0.09327983951855567}, {\"Date\": \"2017-09-01T00:00:00\", \"March\\u00e9s\": 89, \"year\": 2017, \"month\": 9, \"ad_percent\": 0.08926780341023069}, {\"Date\": \"2017-10-01T00:00:00\", \"March\\u00e9s\": 89, \"year\": 2017, \"month\": 10, \"ad_percent\": 0.08926780341023069}, {\"Date\": \"2017-11-01T00:00:00\", \"March\\u00e9s\": 67, \"year\": 2017, \"month\": 11, \"ad_percent\": 0.06720160481444333}, {\"Date\": \"2017-12-01T00:00:00\", \"March\\u00e9s\": 97, \"year\": 2017, \"month\": 12, \"ad_percent\": 0.09729187562688064}, {\"Date\": \"2018-01-01T00:00:00\", \"March\\u00e9s\": 48, \"year\": 2018, \"month\": 1, \"ad_percent\": 0.057971014492753624}, {\"Date\": \"2018-02-01T00:00:00\", \"March\\u00e9s\": 73, \"year\": 2018, \"month\": 2, \"ad_percent\": 0.08816425120772947}, {\"Date\": \"2018-03-01T00:00:00\", \"March\\u00e9s\": 75, \"year\": 2018, \"month\": 3, \"ad_percent\": 0.09057971014492754}, {\"Date\": \"2018-04-01T00:00:00\", \"March\\u00e9s\": 50, \"year\": 2018, \"month\": 4, \"ad_percent\": 0.06038647342995169}, {\"Date\": \"2018-05-01T00:00:00\", \"March\\u00e9s\": 62, \"year\": 2018, \"month\": 5, \"ad_percent\": 0.0748792270531401}, {\"Date\": \"2018-06-01T00:00:00\", \"March\\u00e9s\": 82, \"year\": 2018, \"month\": 6, \"ad_percent\": 0.09903381642512077}, {\"Date\": \"2018-07-01T00:00:00\", \"March\\u00e9s\": 94, \"year\": 2018, \"month\": 7, \"ad_percent\": 0.11352657004830918}, {\"Date\": \"2018-08-01T00:00:00\", \"March\\u00e9s\": 57, \"year\": 2018, \"month\": 8, \"ad_percent\": 0.06884057971014493}, {\"Date\": \"2018-09-01T00:00:00\", \"March\\u00e9s\": 69, \"year\": 2018, \"month\": 9, \"ad_percent\": 0.08333333333333333}, {\"Date\": \"2018-10-01T00:00:00\", \"March\\u00e9s\": 96, \"year\": 2018, \"month\": 10, \"ad_percent\": 0.11594202898550725}, {\"Date\": \"2018-11-01T00:00:00\", \"March\\u00e9s\": 55, \"year\": 2018, \"month\": 11, \"ad_percent\": 0.06642512077294686}, {\"Date\": \"2018-12-01T00:00:00\", \"March\\u00e9s\": 67, \"year\": 2018, \"month\": 12, \"ad_percent\": 0.08091787439613526}, {\"Date\": \"2019-01-01T00:00:00\", \"March\\u00e9s\": 70, \"year\": 2019, \"month\": 1, \"ad_percent\": 0.09536784741144415}, {\"Date\": \"2019-02-01T00:00:00\", \"March\\u00e9s\": 66, \"year\": 2019, \"month\": 2, \"ad_percent\": 0.08991825613079019}, {\"Date\": \"2019-03-01T00:00:00\", \"March\\u00e9s\": 65, \"year\": 2019, \"month\": 3, \"ad_percent\": 0.0885558583106267}, {\"Date\": \"2019-04-01T00:00:00\", \"March\\u00e9s\": 54, \"year\": 2019, \"month\": 4, \"ad_percent\": 0.07356948228882834}, {\"Date\": \"2019-05-01T00:00:00\", \"March\\u00e9s\": 72, \"year\": 2019, \"month\": 5, \"ad_percent\": 0.09809264305177112}, {\"Date\": \"2019-06-01T00:00:00\", \"March\\u00e9s\": 65, \"year\": 2019, \"month\": 6, \"ad_percent\": 0.0885558583106267}, {\"Date\": \"2019-07-01T00:00:00\", \"March\\u00e9s\": 83, \"year\": 2019, \"month\": 7, \"ad_percent\": 0.11307901907356949}, {\"Date\": \"2019-08-01T00:00:00\", \"March\\u00e9s\": 43, \"year\": 2019, \"month\": 8, \"ad_percent\": 0.05858310626702997}, {\"Date\": \"2019-09-01T00:00:00\", \"March\\u00e9s\": 53, \"year\": 2019, \"month\": 9, \"ad_percent\": 0.07220708446866485}, {\"Date\": \"2019-10-01T00:00:00\", \"March\\u00e9s\": 70, \"year\": 2019, \"month\": 10, \"ad_percent\": 0.09536784741144415}, {\"Date\": \"2019-11-01T00:00:00\", \"March\\u00e9s\": 45, \"year\": 2019, \"month\": 11, \"ad_percent\": 0.06130790190735695}, {\"Date\": \"2019-12-01T00:00:00\", \"March\\u00e9s\": 48, \"year\": 2019, \"month\": 12, \"ad_percent\": 0.0653950953678474}]}}, {\"mode\": \"vega-lite\"});\n",
       "</script>"
      ],
      "text/plain": [
       "alt.LayerChart(...)"
      ]
     },
     "execution_count": 153,
     "metadata": {},
     "output_type": "execute_result"
    }
   ],
   "source": [
    "base =  alt.Chart(df_j360).mark_line(color=\"cadetblue\", opacity = 0.5).encode(\n",
    "    x=alt.X('Date:T', axis=alt.Axis(title='Prédictions', grid=False)),\n",
    "    y=alt.X('Marchés:Q', axis=alt.Axis(grid=False)),\n",
    "    ).properties(\n",
    "    title= \"Volume des appels d'offres\",\n",
    "    width=700,\n",
    "    height=400\n",
    ")\n",
    "\n",
    "source2 = [{\n",
    "            \"start\": df_fcast['Date'].to_list()[0],\n",
    "            \"end\": df_fcast['Date'].to_list()[-1],\n",
    "            \"event\": \"Prédictions\"\n",
    "          }]\n",
    "\n",
    "source2 = alt.pd.DataFrame(source2)\n",
    "\n",
    "\n",
    "rect = alt.Chart(source2).mark_rect().encode(\n",
    "    x='start:T',\n",
    "    x2='end:T',\n",
    "    color='event:N'\n",
    ")\n",
    "\n",
    "rect = alt.Chart(source2).mark_rect(color='whitesmoke').encode(\n",
    "    x='start:T',\n",
    "    x2='end:T',\n",
    ")\n",
    "\n",
    "pred = alt.Chart(df_fcast).mark_line(color='darkblue', point={\"filled\": False}).encode(\n",
    "    x=alt.X('Date:T', axis=alt.Axis(title='', grid=False)),\n",
    "    y=alt.Y('Marchés:Q', axis=alt.Axis(grid=False)),\n",
    "    ).properties(\n",
    "    title= \"\",\n",
    "    width=700,\n",
    "    height=400\n",
    ")\n",
    "\n",
    "\n",
    "band = (\n",
    "    alt.Chart(fcast).mark_area(opacity=0.5, color=\"gray\")\\\n",
    "    .encode(x=\"Date:T\", y=\"mean_se:Q\", y2=\"mean_ci_upper:Q\")\\\n",
    "    .properties()\n",
    ")\n",
    "\n",
    "\n",
    "rect + pred + base + base.transform_loess(\"Date\", \"Marchés\").mark_line(size=2).encode().interactive()\n"
   ]
  },
  {
   "cell_type": "code",
   "execution_count": null,
   "metadata": {},
   "outputs": [],
   "source": []
  }
 ],
 "metadata": {
  "kernelspec": {
   "display_name": "Python 3",
   "language": "python",
   "name": "python3"
  },
  "language_info": {
   "codemirror_mode": {
    "name": "ipython",
    "version": 3
   },
   "file_extension": ".py",
   "mimetype": "text/x-python",
   "name": "python",
   "nbconvert_exporter": "python",
   "pygments_lexer": "ipython3",
   "version": "3.7.6"
  }
 },
 "nbformat": 4,
 "nbformat_minor": 4
}
